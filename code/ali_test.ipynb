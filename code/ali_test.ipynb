{
 "cells": [
  {
   "cell_type": "code",
   "execution_count": 1,
   "id": "a247b414-313f-4efd-9f70-0c0a792fe23d",
   "metadata": {},
   "outputs": [],
   "source": [
    "import numpy as np"
   ]
  },
  {
   "cell_type": "code",
   "execution_count": 6,
   "id": "5172d015-c258-43c5-b9b4-605c2793a74a",
   "metadata": {},
   "outputs": [],
   "source": [
    "a = np.array([[1,2],[2,1]])"
   ]
  },
  {
   "cell_type": "code",
   "execution_count": 7,
   "id": "1a29ead9-1d65-4002-b742-f6e1980db1d3",
   "metadata": {},
   "outputs": [
    {
     "data": {
      "text/plain": [
       "array([ 3., -1.])"
      ]
     },
     "execution_count": 7,
     "metadata": {},
     "output_type": "execute_result"
    }
   ],
   "source": [
    "np.linalg.eigvals(a)"
   ]
  },
  {
   "cell_type": "code",
   "execution_count": 8,
   "id": "b246dc11-111a-4b91-b577-c6ebc81d47d0",
   "metadata": {},
   "outputs": [],
   "source": [
    "import sklearn"
   ]
  },
  {
   "cell_type": "code",
   "execution_count": 9,
   "id": "447728e8-476a-4841-961f-8db73858ae15",
   "metadata": {},
   "outputs": [
    {
     "data": {
      "text/plain": [
       "<module 'sklearn' from '/opt/anaconda3/lib/python3.8/site-packages/sklearn/__init__.py'>"
      ]
     },
     "execution_count": 9,
     "metadata": {},
     "output_type": "execute_result"
    }
   ],
   "source": [
    "sklearn"
   ]
  },
  {
   "cell_type": "code",
   "execution_count": 11,
   "id": "29adfb51-2353-4141-a042-b93d100e6149",
   "metadata": {},
   "outputs": [],
   "source": [
    "b = 'a' + 'g'"
   ]
  },
  {
   "cell_type": "code",
   "execution_count": 22,
   "id": "97f7ca4c-48a8-4987-9c2b-7ad71498a856",
   "metadata": {},
   "outputs": [
    {
     "name": "stdout",
     "output_type": "stream",
     "text": [
      "{1, 4, 5} {1, 2, 4, 5}\n"
     ]
    }
   ],
   "source": [
    "a = {1,2}\n",
    "b = {4,2,5}\n",
    "\n",
    "c = a | b\n",
    "d = a ^ b\n",
    "\n",
    "dp = a.symmetric_difference(b)\n",
    "dp = a.intersection(b)\n",
    "dp = a.union(b)\n",
    "\n",
    "\n",
    "print(d,dp)"
   ]
  },
  {
   "cell_type": "code",
   "execution_count": 19,
   "id": "7429ffd4-b55e-4601-9e2f-041b35c13242",
   "metadata": {},
   "outputs": [
    {
     "data": {
      "text/plain": [
       "['__and__',\n",
       " '__class__',\n",
       " '__contains__',\n",
       " '__delattr__',\n",
       " '__dir__',\n",
       " '__doc__',\n",
       " '__eq__',\n",
       " '__format__',\n",
       " '__ge__',\n",
       " '__getattribute__',\n",
       " '__gt__',\n",
       " '__hash__',\n",
       " '__iand__',\n",
       " '__init__',\n",
       " '__init_subclass__',\n",
       " '__ior__',\n",
       " '__isub__',\n",
       " '__iter__',\n",
       " '__ixor__',\n",
       " '__le__',\n",
       " '__len__',\n",
       " '__lt__',\n",
       " '__ne__',\n",
       " '__new__',\n",
       " '__or__',\n",
       " '__rand__',\n",
       " '__reduce__',\n",
       " '__reduce_ex__',\n",
       " '__repr__',\n",
       " '__ror__',\n",
       " '__rsub__',\n",
       " '__rxor__',\n",
       " '__setattr__',\n",
       " '__sizeof__',\n",
       " '__str__',\n",
       " '__sub__',\n",
       " '__subclasshook__',\n",
       " '__xor__',\n",
       " 'add',\n",
       " 'clear',\n",
       " 'copy',\n",
       " 'difference',\n",
       " 'difference_update',\n",
       " 'discard',\n",
       " 'intersection',\n",
       " 'intersection_update',\n",
       " 'isdisjoint',\n",
       " 'issubset',\n",
       " 'issuperset',\n",
       " 'pop',\n",
       " 'remove',\n",
       " 'symmetric_difference',\n",
       " 'symmetric_difference_update',\n",
       " 'union',\n",
       " 'update']"
      ]
     },
     "execution_count": 19,
     "metadata": {},
     "output_type": "execute_result"
    }
   ],
   "source": [
    "dir(set)"
   ]
  },
  {
   "cell_type": "code",
   "execution_count": 23,
   "id": "bb411662-3f71-4908-ae0b-350844187376",
   "metadata": {},
   "outputs": [
    {
     "name": "stdout",
     "output_type": "stream",
     "text": [
      "[90, 59, 21, 60]\n"
     ]
    }
   ],
   "source": [
    "# Python 3 code to people above 18 yrs\n",
    "ages = [13, 90, 17, 59, 21, 60, 5]\n",
    "\n",
    "adults = list(filter(lambda age: age > 18, ages))\n",
    "\n",
    "print(adults)\n"
   ]
  },
  {
   "cell_type": "code",
   "execution_count": 25,
   "id": "c6b9d91d-f507-4c21-95a6-5c15ebdc2356",
   "metadata": {},
   "outputs": [
    {
     "data": {
      "text/plain": [
       "[<function __main__.<listcomp>.<lambda>(x)>,\n",
       " <function __main__.<listcomp>.<lambda>(x)>,\n",
       " <function __main__.<listcomp>.<lambda>(x)>,\n",
       " <function __main__.<listcomp>.<lambda>(x)>]"
      ]
     },
     "execution_count": 25,
     "metadata": {},
     "output_type": "execute_result"
    }
   ],
   "source": [
    "list_1 = [lambda x: x * 10 for x in range(1, 5)]\n",
    "list_1"
   ]
  },
  {
   "cell_type": "code",
   "execution_count": 28,
   "id": "5c1f2c13-7f6e-4b42-bdb4-8afe5f2ee4a8",
   "metadata": {},
   "outputs": [
    {
     "data": {
      "text/plain": [
       "[10, 20, 30, 40]"
      ]
     },
     "execution_count": 28,
     "metadata": {},
     "output_type": "execute_result"
    }
   ],
   "source": [
    "list_1 = list(map(lambda x: x * 10, range(1, 5)))\n",
    "list_1"
   ]
  },
  {
   "cell_type": "code",
   "execution_count": 38,
   "id": "d12fbff6-eccf-4c8d-a29d-2890404cad24",
   "metadata": {},
   "outputs": [
    {
     "name": "stdout",
     "output_type": "stream",
     "text": [
      "The maximum element of the list is : 455\n"
     ]
    }
   ],
   "source": [
    "# python code to demonstrate working of reduce()\n",
    "\n",
    "# importing functools for reduce()\n",
    "import functools\n",
    "\n",
    "# initializing list\n",
    "lis = [1, 3, 5, 6, 2,7,78,455]\n",
    "\n",
    "\n",
    "# using reduce to compute maximum element from list\n",
    "print(\"The maximum element of the list is : \", end=\"\")\n",
    "print(functools.reduce(lambda a, b: a if a > b else b, lis))\n"
   ]
  },
  {
   "cell_type": "code",
   "execution_count": 39,
   "id": "c04867eb-dfdc-4f83-8343-15877ba25a8e",
   "metadata": {},
   "outputs": [
    {
     "name": "stdout",
     "output_type": "stream",
     "text": [
      "The summation of list using accumulate is :[1, 4, 8, 18, 22]\n",
      "The summation of list using reduce is :22\n"
     ]
    }
   ],
   "source": [
    "# python code to demonstrate summation\n",
    "# using reduce() and accumulate()\n",
    "\n",
    "# importing itertools for accumulate()\n",
    "import itertools\n",
    "\n",
    "# importing functools for reduce()\n",
    "import functools\n",
    "\n",
    "# initializing list\n",
    "lis = [1, 3, 4, 10, 4]\n",
    "\n",
    "# printing summation using accumulate()\n",
    "print(\"The summation of list using accumulate is :\", end=\"\")\n",
    "print(list(itertools.accumulate(lis, lambda x, y: x+y)))\n",
    "\n",
    "# printing summation using reduce()\n",
    "print(\"The summation of list using reduce is :\", end=\"\")\n",
    "print(functools.reduce(lambda x, y: x+y, lis))\n"
   ]
  },
  {
   "cell_type": "code",
   "execution_count": 81,
   "id": "670c1bca-16f0-477d-907a-f642a453d159",
   "metadata": {},
   "outputs": [
    {
     "name": "stdout",
     "output_type": "stream",
     "text": [
      "[5, 7, 97, 77, 23, 73, 61]\n"
     ]
    },
    {
     "data": {
      "text/plain": [
       "[1.6094379124341003,\n",
       " 1.9459101490553132,\n",
       " 3.091042453358316,\n",
       " 4.574710978503383,\n",
       " 3.9889840465642745,\n",
       " 4.127134385045092,\n",
       " 4.343805421853684,\n",
       " 3.1354942159291497,\n",
       " 4.290459441148391,\n",
       " 4.110873864173311]"
      ]
     },
     "execution_count": 81,
     "metadata": {},
     "output_type": "execute_result"
    }
   ],
   "source": [
    "li = [5, 7, 22, 97, 54, 62, 77, 23, 73, 61]\n",
    "\n",
    "final_list = list(filter(lambda x: (x % 2 != 0), li))\n",
    "print(final_list)\n",
    "import numpy as np\n",
    "list(map(np.log, li))"
   ]
  },
  {
   "cell_type": "code",
   "execution_count": 40,
   "id": "2d083ae9-47b2-4fda-b5ef-f42cbc04264f",
   "metadata": {},
   "outputs": [],
   "source": []
  },
  {
   "cell_type": "code",
   "execution_count": 41,
   "id": "1f4c0b01-746b-4381-a072-04a6fd31e723",
   "metadata": {},
   "outputs": [
    {
     "data": {
      "text/plain": [
       "<function str.rstrip(chars=None, /)>"
      ]
     },
     "execution_count": 41,
     "metadata": {},
     "output_type": "execute_result"
    }
   ],
   "source": []
  },
  {
   "cell_type": "code",
   "execution_count": 42,
   "id": "77d161bb-4919-403d-ae5c-240f79a800bf",
   "metadata": {},
   "outputs": [
    {
     "data": {
      "text/plain": [
       "2"
      ]
     },
     "execution_count": 42,
     "metadata": {},
     "output_type": "execute_result"
    }
   ],
   "source": [
    "from functools import reduce\n",
    "\n",
    "countDog = lambda st: reduce(lambda counter, word: counter + (1 if word == \"dog\" else 0), st.lower().split(),0)\n",
    "\n",
    "\n",
    "countDog('This dog runs faster than the other dog dude!')"
   ]
  },
  {
   "cell_type": "code",
   "execution_count": 43,
   "id": "71896ad2-3bc2-4449-bb9e-c1bb6e2a2071",
   "metadata": {},
   "outputs": [
    {
     "data": {
      "text/plain": [
       "['soup', 'salad']"
      ]
     },
     "execution_count": 43,
     "metadata": {},
     "output_type": "execute_result"
    }
   ],
   "source": [
    "seq = ['soup','dog','salad','cat','great']\n",
    "\n",
    "list(filter(lambda x: x[0] == 's',seq))"
   ]
  },
  {
   "cell_type": "code",
   "execution_count": 46,
   "id": "9d8ea488-5b8f-420d-990c-5ed49891994c",
   "metadata": {},
   "outputs": [
    {
     "data": {
      "text/plain": [
       "['soupsoup', 'dogdog', 'saladsalad', 'catcat', 'greatgreat']"
      ]
     },
     "execution_count": 46,
     "metadata": {},
     "output_type": "execute_result"
    }
   ],
   "source": [
    "list(map(lambda x: x*2 ,seq))"
   ]
  },
  {
   "cell_type": "code",
   "execution_count": 52,
   "id": "72c4bf11-17a6-4625-a657-a7a0b287e844",
   "metadata": {},
   "outputs": [
    {
     "data": {
      "text/plain": [
       "['zsoup', 'zdog', 'zsalad', 'zcat', 'zgreat']"
      ]
     },
     "execution_count": 52,
     "metadata": {},
     "output_type": "execute_result"
    }
   ],
   "source": [
    "list1 = []\n",
    "for word in seq:\n",
    "    word = word.replace()\n",
    "    list1.append(word)\n",
    "list1"
   ]
  },
  {
   "cell_type": "raw",
   "id": "cda7746c-8489-4766-9319-366170a63986",
   "metadata": {},
   "source": [
    "word = ''"
   ]
  },
  {
   "cell_type": "code",
   "execution_count": 60,
   "id": "63fa66e8-61e7-4f92-8bcf-331bb64f5e54",
   "metadata": {},
   "outputs": [
    {
     "data": {
      "text/plain": [
       "9"
      ]
     },
     "execution_count": 60,
     "metadata": {},
     "output_type": "execute_result"
    }
   ],
   "source": [
    "word = 'greatgddrg'\n",
    "word.rfind('g')"
   ]
  },
  {
   "cell_type": "code",
   "execution_count": 67,
   "id": "95c699d2-92d2-462c-8f14-09720cb538d5",
   "metadata": {},
   "outputs": [
    {
     "data": {
      "text/plain": [
       "0.02055519549721257"
      ]
     },
     "execution_count": 67,
     "metadata": {},
     "output_type": "execute_result"
    },
    {
     "data": {
      "image/png": "[encoded data removed]",
      "text/plain": [
       "<Figure size 432x288 with 1 Axes>"
      ]
     },
     "metadata": {
      "needs_background": "light"
     },
     "output_type": "display_data"
    }
   ],
   "source": [
    "import numpy as np\n",
    "import matplotlib.pyplot as plt\n",
    "\n",
    "\n",
    "plt.hist(np.random.randn(10000),bins=200)\n",
    "np.std(np.random.randn(1000))\n",
    "np.mean(np.random.randn(1000))"
   ]
  },
  {
   "cell_type": "code",
   "execution_count": 68,
   "id": "52039acb-4b79-4062-8d06-dba69c9a2309",
   "metadata": {},
   "outputs": [
    {
     "data": {
      "text/plain": [
       "(5, 5)"
      ]
     },
     "execution_count": 68,
     "metadata": {},
     "output_type": "execute_result"
    }
   ],
   "source": [
    "arr = np.random.rand(5,5)\n",
    "\n",
    "arr.shape"
   ]
  },
  {
   "cell_type": "code",
   "execution_count": 69,
   "id": "232fd7a5-3c1b-4207-9b46-a5aecef76cb0",
   "metadata": {},
   "outputs": [
    {
     "data": {
      "text/plain": [
       "2"
      ]
     },
     "execution_count": 69,
     "metadata": {},
     "output_type": "execute_result"
    }
   ],
   "source": [
    "arr.ndim"
   ]
  },
  {
   "cell_type": "code",
   "execution_count": 73,
   "id": "2fd5f96b-2fc6-4d50-a103-540fd62c897f",
   "metadata": {},
   "outputs": [],
   "source": [
    "arr = arr.reshape(25)"
   ]
  },
  {
   "cell_type": "code",
   "execution_count": 74,
   "id": "9ed163f4-82c1-4cc7-b9a1-56669b34e3bd",
   "metadata": {},
   "outputs": [
    {
     "data": {
      "text/plain": [
       "(25,)"
      ]
     },
     "execution_count": 74,
     "metadata": {},
     "output_type": "execute_result"
    }
   ],
   "source": [
    "arr.shape"
   ]
  },
  {
   "cell_type": "code",
   "execution_count": 75,
   "id": "7ca54755-a3f3-4e5f-82fd-e0e607087452",
   "metadata": {},
   "outputs": [
    {
     "data": {
      "text/plain": [
       "1"
      ]
     },
     "execution_count": 75,
     "metadata": {},
     "output_type": "execute_result"
    }
   ],
   "source": [
    "arr.ndim"
   ]
  },
  {
   "cell_type": "code",
   "execution_count": 76,
   "id": "eb03a60d-a9f7-45c0-83d3-18254b7ca979",
   "metadata": {},
   "outputs": [
    {
     "data": {
      "text/plain": [
       "array([0.0989871 , 0.95886332, 2.        , 2.        , 0.62170773,\n",
       "       0.65569848, 0.05792805, 0.80706826, 0.88492858, 0.53511457,\n",
       "       0.12381853, 0.26598341, 0.07156229, 0.50861912, 0.15811156,\n",
       "       0.53030076, 0.91196079, 0.69396719, 0.33302181, 0.65044165,\n",
       "       0.32663563, 0.20436408, 0.07427522, 0.45257786, 0.44714038])"
      ]
     },
     "execution_count": 76,
     "metadata": {},
     "output_type": "execute_result"
    }
   ],
   "source": [
    "arr[2:4]  = 2.\n",
    "arr"
   ]
  },
  {
   "cell_type": "markdown",
   "id": "fd2c4fa0-3536-410d-90de-3837de5e643a",
   "metadata": {},
   "source": [
    "# Pandas\n",
    "`DataFrame`"
   ]
  },
  {
   "cell_type": "code",
   "execution_count": 168,
   "id": "bda5c033-9ad9-40be-88a9-e4c1c66238c0",
   "metadata": {},
   "outputs": [],
   "source": [
    "import pandas as pd\n",
    "import numpy.random as ran\n",
    "ran.seed(101)"
   ]
  },
  {
   "cell_type": "code",
   "execution_count": 169,
   "id": "6e0e6c4f-0fed-4c81-b5ea-e03cc8810938",
   "metadata": {},
   "outputs": [],
   "source": [
    "df = pd.DataFrame(ran.randn(5,4), index = ['A','B','C','D','E'], columns = ['X','Y','Z','W'])"
   ]
  },
  {
   "cell_type": "code",
   "execution_count": 170,
   "id": "82e0c4d1-8924-4f9f-8ab2-f86c3fdceed3",
   "metadata": {},
   "outputs": [
    {
     "data": {
      "text/html": [
       "<div>\n",
       "<style scoped>\n",
       "    .dataframe tbody tr th:only-of-type {\n",
       "        vertical-align: middle;\n",
       "    }\n",
       "\n",
       "    .dataframe tbody tr th {\n",
       "        vertical-align: top;\n",
       "    }\n",
       "\n",
       "    .dataframe thead th {\n",
       "        text-align: right;\n",
       "    }\n",
       "</style>\n",
       "<table border=\"1\" class=\"dataframe\">\n",
       "  <thead>\n",
       "    <tr style=\"text-align: right;\">\n",
       "      <th></th>\n",
       "      <th>X</th>\n",
       "      <th>Y</th>\n",
       "      <th>Z</th>\n",
       "      <th>W</th>\n",
       "    </tr>\n",
       "  </thead>\n",
       "  <tbody>\n",
       "    <tr>\n",
       "      <th>A</th>\n",
       "      <td>2.706850</td>\n",
       "      <td>0.628133</td>\n",
       "      <td>0.907969</td>\n",
       "      <td>0.503826</td>\n",
       "    </tr>\n",
       "    <tr>\n",
       "      <th>B</th>\n",
       "      <td>0.651118</td>\n",
       "      <td>-0.319318</td>\n",
       "      <td>-0.848077</td>\n",
       "      <td>0.605965</td>\n",
       "    </tr>\n",
       "    <tr>\n",
       "      <th>C</th>\n",
       "      <td>-2.018168</td>\n",
       "      <td>0.740122</td>\n",
       "      <td>0.528813</td>\n",
       "      <td>-0.589001</td>\n",
       "    </tr>\n",
       "    <tr>\n",
       "      <th>D</th>\n",
       "      <td>0.188695</td>\n",
       "      <td>-0.758872</td>\n",
       "      <td>-0.933237</td>\n",
       "      <td>0.955057</td>\n",
       "    </tr>\n",
       "    <tr>\n",
       "      <th>E</th>\n",
       "      <td>0.190794</td>\n",
       "      <td>1.978757</td>\n",
       "      <td>2.605967</td>\n",
       "      <td>0.683509</td>\n",
       "    </tr>\n",
       "  </tbody>\n",
       "</table>\n",
       "</div>"
      ],
      "text/plain": [
       "          X         Y         Z         W\n",
       "A  2.706850  0.628133  0.907969  0.503826\n",
       "B  0.651118 -0.319318 -0.848077  0.605965\n",
       "C -2.018168  0.740122  0.528813 -0.589001\n",
       "D  0.188695 -0.758872 -0.933237  0.955057\n",
       "E  0.190794  1.978757  2.605967  0.683509"
      ]
     },
     "execution_count": 170,
     "metadata": {},
     "output_type": "execute_result"
    }
   ],
   "source": [
    "df"
   ]
  },
  {
   "cell_type": "code",
   "execution_count": 147,
   "id": "ed5a0364-c20b-4e2d-b548-589ff7eec4d6",
   "metadata": {},
   "outputs": [
    {
     "data": {
      "text/html": [
       "<div>\n",
       "<style scoped>\n",
       "    .dataframe tbody tr th:only-of-type {\n",
       "        vertical-align: middle;\n",
       "    }\n",
       "\n",
       "    .dataframe tbody tr th {\n",
       "        vertical-align: top;\n",
       "    }\n",
       "\n",
       "    .dataframe thead th {\n",
       "        text-align: right;\n",
       "    }\n",
       "</style>\n",
       "<table border=\"1\" class=\"dataframe\">\n",
       "  <thead>\n",
       "    <tr style=\"text-align: right;\">\n",
       "      <th></th>\n",
       "      <th>X</th>\n",
       "      <th>Y</th>\n",
       "      <th>Z</th>\n",
       "      <th>W</th>\n",
       "    </tr>\n",
       "  </thead>\n",
       "  <tbody>\n",
       "    <tr>\n",
       "      <th>A</th>\n",
       "      <td>2.706850</td>\n",
       "      <td>0.628133</td>\n",
       "      <td>0.907969</td>\n",
       "      <td>0.503826</td>\n",
       "    </tr>\n",
       "    <tr>\n",
       "      <th>B</th>\n",
       "      <td>0.651118</td>\n",
       "      <td>NaN</td>\n",
       "      <td>NaN</td>\n",
       "      <td>0.605965</td>\n",
       "    </tr>\n",
       "    <tr>\n",
       "      <th>C</th>\n",
       "      <td>NaN</td>\n",
       "      <td>0.740122</td>\n",
       "      <td>0.528813</td>\n",
       "      <td>NaN</td>\n",
       "    </tr>\n",
       "    <tr>\n",
       "      <th>D</th>\n",
       "      <td>0.188695</td>\n",
       "      <td>NaN</td>\n",
       "      <td>NaN</td>\n",
       "      <td>0.955057</td>\n",
       "    </tr>\n",
       "    <tr>\n",
       "      <th>E</th>\n",
       "      <td>0.190794</td>\n",
       "      <td>1.978757</td>\n",
       "      <td>2.605967</td>\n",
       "      <td>0.683509</td>\n",
       "    </tr>\n",
       "  </tbody>\n",
       "</table>\n",
       "</div>"
      ],
      "text/plain": [
       "          X         Y         Z         W\n",
       "A  2.706850  0.628133  0.907969  0.503826\n",
       "B  0.651118       NaN       NaN  0.605965\n",
       "C       NaN  0.740122  0.528813       NaN\n",
       "D  0.188695       NaN       NaN  0.955057\n",
       "E  0.190794  1.978757  2.605967  0.683509"
      ]
     },
     "execution_count": 147,
     "metadata": {},
     "output_type": "execute_result"
    }
   ],
   "source": [
    "df[df>0]"
   ]
  },
  {
   "cell_type": "code",
   "execution_count": 149,
   "id": "fb40b198-05e7-4e6a-b44a-d81c755741a7",
   "metadata": {},
   "outputs": [
    {
     "data": {
      "text/html": [
       "<div>\n",
       "<style scoped>\n",
       "    .dataframe tbody tr th:only-of-type {\n",
       "        vertical-align: middle;\n",
       "    }\n",
       "\n",
       "    .dataframe tbody tr th {\n",
       "        vertical-align: top;\n",
       "    }\n",
       "\n",
       "    .dataframe thead th {\n",
       "        text-align: right;\n",
       "    }\n",
       "</style>\n",
       "<table border=\"1\" class=\"dataframe\">\n",
       "  <thead>\n",
       "    <tr style=\"text-align: right;\">\n",
       "      <th></th>\n",
       "      <th>X</th>\n",
       "      <th>Y</th>\n",
       "      <th>Z</th>\n",
       "      <th>W</th>\n",
       "    </tr>\n",
       "  </thead>\n",
       "  <tbody>\n",
       "    <tr>\n",
       "      <th>C</th>\n",
       "      <td>-2.018168</td>\n",
       "      <td>0.740122</td>\n",
       "      <td>0.528813</td>\n",
       "      <td>-0.589001</td>\n",
       "    </tr>\n",
       "  </tbody>\n",
       "</table>\n",
       "</div>"
      ],
      "text/plain": [
       "          X         Y         Z         W\n",
       "C -2.018168  0.740122  0.528813 -0.589001"
      ]
     },
     "execution_count": 149,
     "metadata": {},
     "output_type": "execute_result"
    }
   ],
   "source": [
    "df[df['X']<0]"
   ]
  },
  {
   "cell_type": "code",
   "execution_count": 150,
   "id": "9f1b5ccc-7bfc-4fd0-8e3d-ca0cccc6fbbd",
   "metadata": {},
   "outputs": [],
   "source": [
    "df['Q']= df['X']+1"
   ]
  },
  {
   "cell_type": "code",
   "execution_count": null,
   "id": "80589b4e-36cb-4a20-809f-e5b3d909608a",
   "metadata": {},
   "outputs": [],
   "source": [
    "df.drop('Q',axis=1,inplace=True)"
   ]
  },
  {
   "cell_type": "code",
   "execution_count": 171,
   "id": "e8190f1f-2978-4526-a512-e4740e716e76",
   "metadata": {},
   "outputs": [],
   "source": [
    "dfnew = df.reset_index()"
   ]
  },
  {
   "cell_type": "code",
   "execution_count": 175,
   "id": "150d22b4-941a-4b6b-b50d-fb9e728bb759",
   "metadata": {},
   "outputs": [],
   "source": [
    "dfnew['states']='FI SW UK US FR'.split()"
   ]
  },
  {
   "cell_type": "code",
   "execution_count": 186,
   "id": "c8ea2292-e92c-4066-b8a5-6b4afa85d712",
   "metadata": {},
   "outputs": [],
   "source": [
    "dfnew2 = dfnew.set_index('states')"
   ]
  },
  {
   "cell_type": "code",
   "execution_count": 187,
   "id": "67315c4a-46f9-4e56-b2c0-95cd893c8162",
   "metadata": {},
   "outputs": [
    {
     "data": {
      "text/html": [
       "<div>\n",
       "<style scoped>\n",
       "    .dataframe tbody tr th:only-of-type {\n",
       "        vertical-align: middle;\n",
       "    }\n",
       "\n",
       "    .dataframe tbody tr th {\n",
       "        vertical-align: top;\n",
       "    }\n",
       "\n",
       "    .dataframe thead th {\n",
       "        text-align: right;\n",
       "    }\n",
       "</style>\n",
       "<table border=\"1\" class=\"dataframe\">\n",
       "  <thead>\n",
       "    <tr style=\"text-align: right;\">\n",
       "      <th></th>\n",
       "      <th>index</th>\n",
       "      <th>X</th>\n",
       "      <th>Y</th>\n",
       "      <th>Z</th>\n",
       "      <th>W</th>\n",
       "    </tr>\n",
       "    <tr>\n",
       "      <th>states</th>\n",
       "      <th></th>\n",
       "      <th></th>\n",
       "      <th></th>\n",
       "      <th></th>\n",
       "      <th></th>\n",
       "    </tr>\n",
       "  </thead>\n",
       "  <tbody>\n",
       "    <tr>\n",
       "      <th>FI</th>\n",
       "      <td>A</td>\n",
       "      <td>2.706850</td>\n",
       "      <td>0.628133</td>\n",
       "      <td>0.907969</td>\n",
       "      <td>0.503826</td>\n",
       "    </tr>\n",
       "    <tr>\n",
       "      <th>SW</th>\n",
       "      <td>B</td>\n",
       "      <td>0.651118</td>\n",
       "      <td>-0.319318</td>\n",
       "      <td>-0.848077</td>\n",
       "      <td>0.605965</td>\n",
       "    </tr>\n",
       "    <tr>\n",
       "      <th>UK</th>\n",
       "      <td>C</td>\n",
       "      <td>-2.018168</td>\n",
       "      <td>0.740122</td>\n",
       "      <td>0.528813</td>\n",
       "      <td>-0.589001</td>\n",
       "    </tr>\n",
       "    <tr>\n",
       "      <th>US</th>\n",
       "      <td>D</td>\n",
       "      <td>0.188695</td>\n",
       "      <td>-0.758872</td>\n",
       "      <td>-0.933237</td>\n",
       "      <td>0.955057</td>\n",
       "    </tr>\n",
       "    <tr>\n",
       "      <th>FR</th>\n",
       "      <td>E</td>\n",
       "      <td>0.190794</td>\n",
       "      <td>1.978757</td>\n",
       "      <td>2.605967</td>\n",
       "      <td>0.683509</td>\n",
       "    </tr>\n",
       "  </tbody>\n",
       "</table>\n",
       "</div>"
      ],
      "text/plain": [
       "       index         X         Y         Z         W\n",
       "states                                              \n",
       "FI         A  2.706850  0.628133  0.907969  0.503826\n",
       "SW         B  0.651118 -0.319318 -0.848077  0.605965\n",
       "UK         C -2.018168  0.740122  0.528813 -0.589001\n",
       "US         D  0.188695 -0.758872 -0.933237  0.955057\n",
       "FR         E  0.190794  1.978757  2.605967  0.683509"
      ]
     },
     "execution_count": 187,
     "metadata": {},
     "output_type": "execute_result"
    }
   ],
   "source": [
    "dfnew2"
   ]
  },
  {
   "cell_type": "code",
   "execution_count": 99,
   "id": "cfd0e0ef-ef75-4287-82f6-2b419a558a76",
   "metadata": {},
   "outputs": [
    {
     "data": {
      "text/html": [
       "<div>\n",
       "<style scoped>\n",
       "    .dataframe tbody tr th:only-of-type {\n",
       "        vertical-align: middle;\n",
       "    }\n",
       "\n",
       "    .dataframe tbody tr th {\n",
       "        vertical-align: top;\n",
       "    }\n",
       "\n",
       "    .dataframe thead th {\n",
       "        text-align: right;\n",
       "    }\n",
       "</style>\n",
       "<table border=\"1\" class=\"dataframe\">\n",
       "  <thead>\n",
       "    <tr style=\"text-align: right;\">\n",
       "      <th></th>\n",
       "      <th>Z</th>\n",
       "      <th>X</th>\n",
       "    </tr>\n",
       "  </thead>\n",
       "  <tbody>\n",
       "    <tr>\n",
       "      <th>A</th>\n",
       "      <td>0.907969</td>\n",
       "      <td>2.706850</td>\n",
       "    </tr>\n",
       "    <tr>\n",
       "      <th>B</th>\n",
       "      <td>-0.848077</td>\n",
       "      <td>0.651118</td>\n",
       "    </tr>\n",
       "    <tr>\n",
       "      <th>C</th>\n",
       "      <td>0.528813</td>\n",
       "      <td>-2.018168</td>\n",
       "    </tr>\n",
       "    <tr>\n",
       "      <th>D</th>\n",
       "      <td>-0.933237</td>\n",
       "      <td>0.188695</td>\n",
       "    </tr>\n",
       "    <tr>\n",
       "      <th>E</th>\n",
       "      <td>2.605967</td>\n",
       "      <td>0.190794</td>\n",
       "    </tr>\n",
       "  </tbody>\n",
       "</table>\n",
       "</div>"
      ],
      "text/plain": [
       "          Z         X\n",
       "A  0.907969  2.706850\n",
       "B -0.848077  0.651118\n",
       "C  0.528813 -2.018168\n",
       "D -0.933237  0.188695\n",
       "E  2.605967  0.190794"
      ]
     },
     "execution_count": 99,
     "metadata": {},
     "output_type": "execute_result"
    }
   ],
   "source": [
    "df[['Z','X']]"
   ]
  },
  {
   "cell_type": "code",
   "execution_count": 93,
   "id": "25a2ed82-88b9-4e5e-a460-bb9daa2b1864",
   "metadata": {},
   "outputs": [
    {
     "data": {
      "text/plain": [
       "pandas.core.series.Series"
      ]
     },
     "execution_count": 93,
     "metadata": {},
     "output_type": "execute_result"
    }
   ],
   "source": [
    "type(df['Z'])"
   ]
  },
  {
   "cell_type": "code",
   "execution_count": 94,
   "id": "c9fd0401-7d8f-4009-9094-8b16b858c5d0",
   "metadata": {},
   "outputs": [
    {
     "data": {
      "text/plain": [
       "pandas.core.frame.DataFrame"
      ]
     },
     "execution_count": 94,
     "metadata": {},
     "output_type": "execute_result"
    }
   ],
   "source": [
    "type(df)"
   ]
  },
  {
   "cell_type": "code",
   "execution_count": 116,
   "id": "b60e900a-28a8-4466-9740-7e8d56a4790e",
   "metadata": {},
   "outputs": [
    {
     "data": {
      "text/html": [
       "<div>\n",
       "<style scoped>\n",
       "    .dataframe tbody tr th:only-of-type {\n",
       "        vertical-align: middle;\n",
       "    }\n",
       "\n",
       "    .dataframe tbody tr th {\n",
       "        vertical-align: top;\n",
       "    }\n",
       "\n",
       "    .dataframe thead th {\n",
       "        text-align: right;\n",
       "    }\n",
       "</style>\n",
       "<table border=\"1\" class=\"dataframe\">\n",
       "  <thead>\n",
       "    <tr style=\"text-align: right;\">\n",
       "      <th></th>\n",
       "      <th>X</th>\n",
       "      <th>Y</th>\n",
       "      <th>W</th>\n",
       "    </tr>\n",
       "  </thead>\n",
       "  <tbody>\n",
       "    <tr>\n",
       "      <th>A</th>\n",
       "      <td>2.706850</td>\n",
       "      <td>0.628133</td>\n",
       "      <td>0.503826</td>\n",
       "    </tr>\n",
       "    <tr>\n",
       "      <th>B</th>\n",
       "      <td>0.651118</td>\n",
       "      <td>-0.319318</td>\n",
       "      <td>0.605965</td>\n",
       "    </tr>\n",
       "    <tr>\n",
       "      <th>C</th>\n",
       "      <td>-2.018168</td>\n",
       "      <td>0.740122</td>\n",
       "      <td>-0.589001</td>\n",
       "    </tr>\n",
       "    <tr>\n",
       "      <th>D</th>\n",
       "      <td>0.188695</td>\n",
       "      <td>-0.758872</td>\n",
       "      <td>0.955057</td>\n",
       "    </tr>\n",
       "    <tr>\n",
       "      <th>E</th>\n",
       "      <td>0.190794</td>\n",
       "      <td>1.978757</td>\n",
       "      <td>0.683509</td>\n",
       "    </tr>\n",
       "  </tbody>\n",
       "</table>\n",
       "</div>"
      ],
      "text/plain": [
       "          X         Y         W\n",
       "A  2.706850  0.628133  0.503826\n",
       "B  0.651118 -0.319318  0.605965\n",
       "C -2.018168  0.740122 -0.589001\n",
       "D  0.188695 -0.758872  0.955057\n",
       "E  0.190794  1.978757  0.683509"
      ]
     },
     "execution_count": 116,
     "metadata": {},
     "output_type": "execute_result"
    }
   ],
   "source": [
    "df.drop('Z',axis=1)"
   ]
  },
  {
   "cell_type": "code",
   "execution_count": 117,
   "id": "429fb95b-b027-4db2-afed-623085326af8",
   "metadata": {},
   "outputs": [
    {
     "data": {
      "text/html": [
       "<div>\n",
       "<style scoped>\n",
       "    .dataframe tbody tr th:only-of-type {\n",
       "        vertical-align: middle;\n",
       "    }\n",
       "\n",
       "    .dataframe tbody tr th {\n",
       "        vertical-align: top;\n",
       "    }\n",
       "\n",
       "    .dataframe thead th {\n",
       "        text-align: right;\n",
       "    }\n",
       "</style>\n",
       "<table border=\"1\" class=\"dataframe\">\n",
       "  <thead>\n",
       "    <tr style=\"text-align: right;\">\n",
       "      <th></th>\n",
       "      <th>X</th>\n",
       "      <th>Y</th>\n",
       "      <th>Z</th>\n",
       "      <th>W</th>\n",
       "    </tr>\n",
       "  </thead>\n",
       "  <tbody>\n",
       "    <tr>\n",
       "      <th>A</th>\n",
       "      <td>2.706850</td>\n",
       "      <td>0.628133</td>\n",
       "      <td>0.907969</td>\n",
       "      <td>0.503826</td>\n",
       "    </tr>\n",
       "    <tr>\n",
       "      <th>B</th>\n",
       "      <td>0.651118</td>\n",
       "      <td>-0.319318</td>\n",
       "      <td>-0.848077</td>\n",
       "      <td>0.605965</td>\n",
       "    </tr>\n",
       "    <tr>\n",
       "      <th>C</th>\n",
       "      <td>-2.018168</td>\n",
       "      <td>0.740122</td>\n",
       "      <td>0.528813</td>\n",
       "      <td>-0.589001</td>\n",
       "    </tr>\n",
       "    <tr>\n",
       "      <th>D</th>\n",
       "      <td>0.188695</td>\n",
       "      <td>-0.758872</td>\n",
       "      <td>-0.933237</td>\n",
       "      <td>0.955057</td>\n",
       "    </tr>\n",
       "    <tr>\n",
       "      <th>E</th>\n",
       "      <td>0.190794</td>\n",
       "      <td>1.978757</td>\n",
       "      <td>2.605967</td>\n",
       "      <td>0.683509</td>\n",
       "    </tr>\n",
       "  </tbody>\n",
       "</table>\n",
       "</div>"
      ],
      "text/plain": [
       "          X         Y         Z         W\n",
       "A  2.706850  0.628133  0.907969  0.503826\n",
       "B  0.651118 -0.319318 -0.848077  0.605965\n",
       "C -2.018168  0.740122  0.528813 -0.589001\n",
       "D  0.188695 -0.758872 -0.933237  0.955057\n",
       "E  0.190794  1.978757  2.605967  0.683509"
      ]
     },
     "execution_count": 117,
     "metadata": {},
     "output_type": "execute_result"
    }
   ],
   "source": [
    "df"
   ]
  },
  {
   "cell_type": "code",
   "execution_count": 118,
   "id": "b07e8e98-602d-4bab-a472-b01aae6c6a32",
   "metadata": {},
   "outputs": [
    {
     "data": {
      "text/html": [
       "<div>\n",
       "<style scoped>\n",
       "    .dataframe tbody tr th:only-of-type {\n",
       "        vertical-align: middle;\n",
       "    }\n",
       "\n",
       "    .dataframe tbody tr th {\n",
       "        vertical-align: top;\n",
       "    }\n",
       "\n",
       "    .dataframe thead th {\n",
       "        text-align: right;\n",
       "    }\n",
       "</style>\n",
       "<table border=\"1\" class=\"dataframe\">\n",
       "  <thead>\n",
       "    <tr style=\"text-align: right;\">\n",
       "      <th></th>\n",
       "      <th>X</th>\n",
       "      <th>Y</th>\n",
       "      <th>Z</th>\n",
       "      <th>W</th>\n",
       "    </tr>\n",
       "  </thead>\n",
       "  <tbody>\n",
       "    <tr>\n",
       "      <th>A</th>\n",
       "      <td>2.706850</td>\n",
       "      <td>0.628133</td>\n",
       "      <td>0.907969</td>\n",
       "      <td>0.503826</td>\n",
       "    </tr>\n",
       "    <tr>\n",
       "      <th>B</th>\n",
       "      <td>0.651118</td>\n",
       "      <td>-0.319318</td>\n",
       "      <td>-0.848077</td>\n",
       "      <td>0.605965</td>\n",
       "    </tr>\n",
       "    <tr>\n",
       "      <th>C</th>\n",
       "      <td>-2.018168</td>\n",
       "      <td>0.740122</td>\n",
       "      <td>0.528813</td>\n",
       "      <td>-0.589001</td>\n",
       "    </tr>\n",
       "    <tr>\n",
       "      <th>E</th>\n",
       "      <td>0.190794</td>\n",
       "      <td>1.978757</td>\n",
       "      <td>2.605967</td>\n",
       "      <td>0.683509</td>\n",
       "    </tr>\n",
       "  </tbody>\n",
       "</table>\n",
       "</div>"
      ],
      "text/plain": [
       "          X         Y         Z         W\n",
       "A  2.706850  0.628133  0.907969  0.503826\n",
       "B  0.651118 -0.319318 -0.848077  0.605965\n",
       "C -2.018168  0.740122  0.528813 -0.589001\n",
       "E  0.190794  1.978757  2.605967  0.683509"
      ]
     },
     "execution_count": 118,
     "metadata": {},
     "output_type": "execute_result"
    }
   ],
   "source": [
    "df.drop('D')"
   ]
  },
  {
   "cell_type": "code",
   "execution_count": 119,
   "id": "c20ea6a5-115e-46d4-91c7-915ac9497b4b",
   "metadata": {},
   "outputs": [
    {
     "data": {
      "text/html": [
       "<div>\n",
       "<style scoped>\n",
       "    .dataframe tbody tr th:only-of-type {\n",
       "        vertical-align: middle;\n",
       "    }\n",
       "\n",
       "    .dataframe tbody tr th {\n",
       "        vertical-align: top;\n",
       "    }\n",
       "\n",
       "    .dataframe thead th {\n",
       "        text-align: right;\n",
       "    }\n",
       "</style>\n",
       "<table border=\"1\" class=\"dataframe\">\n",
       "  <thead>\n",
       "    <tr style=\"text-align: right;\">\n",
       "      <th></th>\n",
       "      <th>X</th>\n",
       "      <th>Y</th>\n",
       "      <th>Z</th>\n",
       "      <th>W</th>\n",
       "    </tr>\n",
       "  </thead>\n",
       "  <tbody>\n",
       "    <tr>\n",
       "      <th>A</th>\n",
       "      <td>2.706850</td>\n",
       "      <td>0.628133</td>\n",
       "      <td>0.907969</td>\n",
       "      <td>0.503826</td>\n",
       "    </tr>\n",
       "    <tr>\n",
       "      <th>B</th>\n",
       "      <td>0.651118</td>\n",
       "      <td>-0.319318</td>\n",
       "      <td>-0.848077</td>\n",
       "      <td>0.605965</td>\n",
       "    </tr>\n",
       "    <tr>\n",
       "      <th>C</th>\n",
       "      <td>-2.018168</td>\n",
       "      <td>0.740122</td>\n",
       "      <td>0.528813</td>\n",
       "      <td>-0.589001</td>\n",
       "    </tr>\n",
       "    <tr>\n",
       "      <th>D</th>\n",
       "      <td>0.188695</td>\n",
       "      <td>-0.758872</td>\n",
       "      <td>-0.933237</td>\n",
       "      <td>0.955057</td>\n",
       "    </tr>\n",
       "    <tr>\n",
       "      <th>E</th>\n",
       "      <td>0.190794</td>\n",
       "      <td>1.978757</td>\n",
       "      <td>2.605967</td>\n",
       "      <td>0.683509</td>\n",
       "    </tr>\n",
       "  </tbody>\n",
       "</table>\n",
       "</div>"
      ],
      "text/plain": [
       "          X         Y         Z         W\n",
       "A  2.706850  0.628133  0.907969  0.503826\n",
       "B  0.651118 -0.319318 -0.848077  0.605965\n",
       "C -2.018168  0.740122  0.528813 -0.589001\n",
       "D  0.188695 -0.758872 -0.933237  0.955057\n",
       "E  0.190794  1.978757  2.605967  0.683509"
      ]
     },
     "execution_count": 119,
     "metadata": {},
     "output_type": "execute_result"
    }
   ],
   "source": [
    "df"
   ]
  },
  {
   "cell_type": "code",
   "execution_count": 121,
   "id": "e5bad764-7403-4075-ba6d-bb6ec354140d",
   "metadata": {},
   "outputs": [
    {
     "data": {
      "text/plain": [
       "array([[ 2.70684984,  0.62813271,  0.90796945,  0.50382575],\n",
       "       [ 0.65111795, -0.31931804, -0.84807698,  0.60596535],\n",
       "       [-2.01816824,  0.74012206,  0.52881349, -0.58900053],\n",
       "       [ 0.18869531, -0.75887206, -0.93323722,  0.95505651],\n",
       "       [ 0.19079432,  1.97875732,  2.60596728,  0.68350889]])"
      ]
     },
     "execution_count": 121,
     "metadata": {},
     "output_type": "execute_result"
    }
   ],
   "source": [
    "df.to_numpy()"
   ]
  },
  {
   "cell_type": "code",
   "execution_count": 131,
   "id": "a02822d7-6098-4856-a5cf-bbf620287c58",
   "metadata": {},
   "outputs": [
    {
     "data": {
      "text/plain": [
       "X    0.651118\n",
       "Y   -0.319318\n",
       "Z   -0.848077\n",
       "W    0.605965\n",
       "Name: B, dtype: float64"
      ]
     },
     "execution_count": 131,
     "metadata": {},
     "output_type": "execute_result"
    }
   ],
   "source": [
    "df.loc['B']"
   ]
  },
  {
   "cell_type": "code",
   "execution_count": 140,
   "id": "1ff94c29-cf2f-484e-bd23-b8119b35497c",
   "metadata": {},
   "outputs": [
    {
     "data": {
      "text/html": [
       "<div>\n",
       "<style scoped>\n",
       "    .dataframe tbody tr th:only-of-type {\n",
       "        vertical-align: middle;\n",
       "    }\n",
       "\n",
       "    .dataframe tbody tr th {\n",
       "        vertical-align: top;\n",
       "    }\n",
       "\n",
       "    .dataframe thead th {\n",
       "        text-align: right;\n",
       "    }\n",
       "</style>\n",
       "<table border=\"1\" class=\"dataframe\">\n",
       "  <thead>\n",
       "    <tr style=\"text-align: right;\">\n",
       "      <th></th>\n",
       "      <th>W</th>\n",
       "      <th>Z</th>\n",
       "      <th>Y</th>\n",
       "    </tr>\n",
       "  </thead>\n",
       "  <tbody>\n",
       "    <tr>\n",
       "      <th>B</th>\n",
       "      <td>0.605965</td>\n",
       "      <td>-0.848077</td>\n",
       "      <td>-0.319318</td>\n",
       "    </tr>\n",
       "    <tr>\n",
       "      <th>C</th>\n",
       "      <td>-0.589001</td>\n",
       "      <td>0.528813</td>\n",
       "      <td>0.740122</td>\n",
       "    </tr>\n",
       "  </tbody>\n",
       "</table>\n",
       "</div>"
      ],
      "text/plain": [
       "          W         Z         Y\n",
       "B  0.605965 -0.848077 -0.319318\n",
       "C -0.589001  0.528813  0.740122"
      ]
     },
     "execution_count": 140,
     "metadata": {},
     "output_type": "execute_result"
    }
   ],
   "source": [
    "df.iloc[1:3,-1:-4:-1]"
   ]
  },
  {
   "cell_type": "code",
   "execution_count": 125,
   "id": "16f05609-9ce9-4876-8682-c184f5155525",
   "metadata": {},
   "outputs": [
    {
     "data": {
      "text/plain": [
       "<bound method NDFrame.to_sql of           X         Y         Z         W\n",
       "A  2.706850  0.628133  0.907969  0.503826\n",
       "B  0.651118 -0.319318 -0.848077  0.605965\n",
       "C -2.018168  0.740122  0.528813 -0.589001\n",
       "D  0.188695 -0.758872 -0.933237  0.955057\n",
       "E  0.190794  1.978757  2.605967  0.683509>"
      ]
     },
     "execution_count": 125,
     "metadata": {},
     "output_type": "execute_result"
    }
   ],
   "source": [
    "df.to_sql"
   ]
  },
  {
   "cell_type": "code",
   "execution_count": 126,
   "id": "b17793c2-2978-4598-80d3-5e9e797967f0",
   "metadata": {},
   "outputs": [
    {
     "data": {
      "text/html": [
       "<div>\n",
       "<style scoped>\n",
       "    .dataframe tbody tr th:only-of-type {\n",
       "        vertical-align: middle;\n",
       "    }\n",
       "\n",
       "    .dataframe tbody tr th {\n",
       "        vertical-align: top;\n",
       "    }\n",
       "\n",
       "    .dataframe thead th {\n",
       "        text-align: right;\n",
       "    }\n",
       "</style>\n",
       "<table border=\"1\" class=\"dataframe\">\n",
       "  <thead>\n",
       "    <tr style=\"text-align: right;\">\n",
       "      <th></th>\n",
       "      <th>X</th>\n",
       "      <th>Y</th>\n",
       "      <th>Z</th>\n",
       "      <th>W</th>\n",
       "    </tr>\n",
       "  </thead>\n",
       "  <tbody>\n",
       "    <tr>\n",
       "      <th>A</th>\n",
       "      <td>2.706850</td>\n",
       "      <td>0.628133</td>\n",
       "      <td>0.907969</td>\n",
       "      <td>0.503826</td>\n",
       "    </tr>\n",
       "    <tr>\n",
       "      <th>B</th>\n",
       "      <td>0.651118</td>\n",
       "      <td>-0.319318</td>\n",
       "      <td>-0.848077</td>\n",
       "      <td>0.605965</td>\n",
       "    </tr>\n",
       "    <tr>\n",
       "      <th>C</th>\n",
       "      <td>-2.018168</td>\n",
       "      <td>0.740122</td>\n",
       "      <td>0.528813</td>\n",
       "      <td>-0.589001</td>\n",
       "    </tr>\n",
       "    <tr>\n",
       "      <th>D</th>\n",
       "      <td>0.188695</td>\n",
       "      <td>-0.758872</td>\n",
       "      <td>-0.933237</td>\n",
       "      <td>0.955057</td>\n",
       "    </tr>\n",
       "    <tr>\n",
       "      <th>E</th>\n",
       "      <td>0.190794</td>\n",
       "      <td>1.978757</td>\n",
       "      <td>2.605967</td>\n",
       "      <td>0.683509</td>\n",
       "    </tr>\n",
       "  </tbody>\n",
       "</table>\n",
       "</div>"
      ],
      "text/plain": [
       "          X         Y         Z         W\n",
       "A  2.706850  0.628133  0.907969  0.503826\n",
       "B  0.651118 -0.319318 -0.848077  0.605965\n",
       "C -2.018168  0.740122  0.528813 -0.589001\n",
       "D  0.188695 -0.758872 -0.933237  0.955057\n",
       "E  0.190794  1.978757  2.605967  0.683509"
      ]
     },
     "execution_count": 126,
     "metadata": {},
     "output_type": "execute_result"
    }
   ],
   "source": [
    "df"
   ]
  },
  {
   "cell_type": "code",
   "execution_count": 60,
   "id": "957d1e0f-4373-440d-b11e-c64b2db03124",
   "metadata": {},
   "outputs": [],
   "source": [
    "import pandas as pd\n",
    "import numpy as np\n",
    "# Index Levels\n",
    "outside = ['G1','G1','G1','G2','G2','G2']\n",
    "inside = [1,2,3,1,2,3]\n",
    "ind = list(zip(outside,inside))\n",
    "hier_index = pd.MultiIndex.from_tuples(hier_index)"
   ]
  },
  {
   "cell_type": "code",
   "execution_count": 61,
   "id": "0f6c8412-f08c-484e-89a7-d24f488ff545",
   "metadata": {},
   "outputs": [
    {
     "name": "stdout",
     "output_type": "stream",
     "text": [
      "12\n",
      "6\n",
      "(6, 2)\n",
      "<class 'list'>\n",
      "[('G1', 1), ('G1', 2), ('G1', 3), ('G2', 1), ('G2', 2), ('G2', 3)]\n"
     ]
    }
   ],
   "source": [
    "print(np.size(ind))\n",
    "print(len(ind))\n",
    "print(np.shape(ind))\n",
    "print(type(ind))\n",
    "\n",
    "print(ind)"
   ]
  },
  {
   "cell_type": "code",
   "execution_count": 15,
   "id": "d1e0b4e8-c8e5-43ff-997c-68a59786edf8",
   "metadata": {},
   "outputs": [
    {
     "data": {
      "text/plain": [
       "MultiIndex([('G1', 1),\n",
       "            ('G1', 2),\n",
       "            ('G1', 3),\n",
       "            ('G2', 1),\n",
       "            ('G2', 2),\n",
       "            ('G2', 3)],\n",
       "           )"
      ]
     },
     "execution_count": 15,
     "metadata": {},
     "output_type": "execute_result"
    }
   ],
   "source": [
    "hier_index"
   ]
  },
  {
   "cell_type": "code",
   "execution_count": 62,
   "id": "fb20660e-bafb-42f7-9e44-40ba1021e3d7",
   "metadata": {},
   "outputs": [],
   "source": [
    "np.random.seed(101)\n",
    "df = pd.DataFrame(np.random.randn(6,2),hier_index,['A','B']) "
   ]
  },
  {
   "cell_type": "code",
   "execution_count": 63,
   "id": "ccc457fd-2417-4e33-9ac1-6ae0ecdf0e1f",
   "metadata": {},
   "outputs": [
    {
     "data": {
      "text/html": [
       "<div>\n",
       "<style scoped>\n",
       "    .dataframe tbody tr th:only-of-type {\n",
       "        vertical-align: middle;\n",
       "    }\n",
       "\n",
       "    .dataframe tbody tr th {\n",
       "        vertical-align: top;\n",
       "    }\n",
       "\n",
       "    .dataframe thead th {\n",
       "        text-align: right;\n",
       "    }\n",
       "</style>\n",
       "<table border=\"1\" class=\"dataframe\">\n",
       "  <thead>\n",
       "    <tr style=\"text-align: right;\">\n",
       "      <th></th>\n",
       "      <th></th>\n",
       "      <th>A</th>\n",
       "      <th>B</th>\n",
       "    </tr>\n",
       "  </thead>\n",
       "  <tbody>\n",
       "    <tr>\n",
       "      <th rowspan=\"3\" valign=\"top\">G1</th>\n",
       "      <th>1</th>\n",
       "      <td>2.706850</td>\n",
       "      <td>0.628133</td>\n",
       "    </tr>\n",
       "    <tr>\n",
       "      <th>2</th>\n",
       "      <td>0.907969</td>\n",
       "      <td>0.503826</td>\n",
       "    </tr>\n",
       "    <tr>\n",
       "      <th>3</th>\n",
       "      <td>0.651118</td>\n",
       "      <td>-0.319318</td>\n",
       "    </tr>\n",
       "    <tr>\n",
       "      <th rowspan=\"3\" valign=\"top\">G2</th>\n",
       "      <th>1</th>\n",
       "      <td>-0.848077</td>\n",
       "      <td>0.605965</td>\n",
       "    </tr>\n",
       "    <tr>\n",
       "      <th>2</th>\n",
       "      <td>-2.018168</td>\n",
       "      <td>0.740122</td>\n",
       "    </tr>\n",
       "    <tr>\n",
       "      <th>3</th>\n",
       "      <td>0.528813</td>\n",
       "      <td>-0.589001</td>\n",
       "    </tr>\n",
       "  </tbody>\n",
       "</table>\n",
       "</div>"
      ],
      "text/plain": [
       "             A         B\n",
       "G1 1  2.706850  0.628133\n",
       "   2  0.907969  0.503826\n",
       "   3  0.651118 -0.319318\n",
       "G2 1 -0.848077  0.605965\n",
       "   2 -2.018168  0.740122\n",
       "   3  0.528813 -0.589001"
      ]
     },
     "execution_count": 63,
     "metadata": {},
     "output_type": "execute_result"
    }
   ],
   "source": [
    "df"
   ]
  },
  {
   "cell_type": "code",
   "execution_count": 40,
   "id": "1d8758ea-588f-4fc1-83cc-bf5e19602e1e",
   "metadata": {},
   "outputs": [
    {
     "data": {
      "text/plain": [
       "A    0.528813\n",
       "B   -0.589001\n",
       "Name: (G2, 3), dtype: float64"
      ]
     },
     "execution_count": 40,
     "metadata": {},
     "output_type": "execute_result"
    }
   ],
   "source": [
    "df.iloc[5]"
   ]
  },
  {
   "cell_type": "code",
   "execution_count": 58,
   "id": "d9af8981-07d3-46ae-bf60-711535efaf77",
   "metadata": {},
   "outputs": [
    {
     "data": {
      "text/html": [
       "<div>\n",
       "<style scoped>\n",
       "    .dataframe tbody tr th:only-of-type {\n",
       "        vertical-align: middle;\n",
       "    }\n",
       "\n",
       "    .dataframe tbody tr th {\n",
       "        vertical-align: top;\n",
       "    }\n",
       "\n",
       "    .dataframe thead th {\n",
       "        text-align: right;\n",
       "    }\n",
       "</style>\n",
       "<table border=\"1\" class=\"dataframe\">\n",
       "  <thead>\n",
       "    <tr style=\"text-align: right;\">\n",
       "      <th></th>\n",
       "      <th></th>\n",
       "      <th>A</th>\n",
       "      <th>B</th>\n",
       "    </tr>\n",
       "    <tr>\n",
       "      <th>Group</th>\n",
       "      <th>Num</th>\n",
       "      <th></th>\n",
       "      <th></th>\n",
       "    </tr>\n",
       "  </thead>\n",
       "  <tbody>\n",
       "    <tr>\n",
       "      <th rowspan=\"3\" valign=\"top\">G1</th>\n",
       "      <th>1</th>\n",
       "      <td>2.706850</td>\n",
       "      <td>0.628133</td>\n",
       "    </tr>\n",
       "    <tr>\n",
       "      <th>2</th>\n",
       "      <td>0.907969</td>\n",
       "      <td>0.503826</td>\n",
       "    </tr>\n",
       "    <tr>\n",
       "      <th>3</th>\n",
       "      <td>0.651118</td>\n",
       "      <td>-0.319318</td>\n",
       "    </tr>\n",
       "    <tr>\n",
       "      <th rowspan=\"3\" valign=\"top\">G2</th>\n",
       "      <th>1</th>\n",
       "      <td>-0.848077</td>\n",
       "      <td>0.605965</td>\n",
       "    </tr>\n",
       "    <tr>\n",
       "      <th>2</th>\n",
       "      <td>-2.018168</td>\n",
       "      <td>0.740122</td>\n",
       "    </tr>\n",
       "    <tr>\n",
       "      <th>3</th>\n",
       "      <td>0.528813</td>\n",
       "      <td>-0.589001</td>\n",
       "    </tr>\n",
       "  </tbody>\n",
       "</table>\n",
       "</div>"
      ],
      "text/plain": [
       "                  A         B\n",
       "Group Num                    \n",
       "G1    1    2.706850  0.628133\n",
       "      2    0.907969  0.503826\n",
       "      3    0.651118 -0.319318\n",
       "G2    1   -0.848077  0.605965\n",
       "      2   -2.018168  0.740122\n",
       "      3    0.528813 -0.589001"
      ]
     },
     "execution_count": 58,
     "metadata": {},
     "output_type": "execute_result"
    }
   ],
   "source": [
    "df.index.names = ['Group', 'Num']\n",
    "#df.reset_index()\n",
    "df"
   ]
  },
  {
   "cell_type": "code",
   "execution_count": 49,
   "id": "c449b66d-5d60-45e2-9ce4-d2efcf30fa8a",
   "metadata": {},
   "outputs": [
    {
     "data": {
      "text/plain": [
       "A    0.907969\n",
       "B    0.503826\n",
       "Name: (G1, 2), dtype: float64"
      ]
     },
     "execution_count": 49,
     "metadata": {},
     "output_type": "execute_result"
    }
   ],
   "source": [
    "df.loc[ 'G1',2]"
   ]
  },
  {
   "cell_type": "code",
   "execution_count": 68,
   "id": "c1878d6e-9c76-4115-ada6-dcde5a653df8",
   "metadata": {},
   "outputs": [
    {
     "data": {
      "text/html": [
       "<div>\n",
       "<style scoped>\n",
       "    .dataframe tbody tr th:only-of-type {\n",
       "        vertical-align: middle;\n",
       "    }\n",
       "\n",
       "    .dataframe tbody tr th {\n",
       "        vertical-align: top;\n",
       "    }\n",
       "\n",
       "    .dataframe thead th {\n",
       "        text-align: right;\n",
       "    }\n",
       "</style>\n",
       "<table border=\"1\" class=\"dataframe\">\n",
       "  <thead>\n",
       "    <tr style=\"text-align: right;\">\n",
       "      <th></th>\n",
       "      <th>A</th>\n",
       "      <th>B</th>\n",
       "    </tr>\n",
       "  </thead>\n",
       "  <tbody>\n",
       "    <tr>\n",
       "      <th>G1</th>\n",
       "      <td>0.907969</td>\n",
       "      <td>0.503826</td>\n",
       "    </tr>\n",
       "    <tr>\n",
       "      <th>G2</th>\n",
       "      <td>-2.018168</td>\n",
       "      <td>0.740122</td>\n",
       "    </tr>\n",
       "  </tbody>\n",
       "</table>\n",
       "</div>"
      ],
      "text/plain": [
       "           A         B\n",
       "G1  0.907969  0.503826\n",
       "G2 -2.018168  0.740122"
      ]
     },
     "execution_count": 68,
     "metadata": {},
     "output_type": "execute_result"
    }
   ],
   "source": [
    "df.xs(2,level = 1)"
   ]
  },
  {
   "cell_type": "code",
   "execution_count": 69,
   "id": "8077d74b-4231-4516-a8d9-366e8353479d",
   "metadata": {},
   "outputs": [
    {
     "data": {
      "text/html": [
       "<div>\n",
       "<style scoped>\n",
       "    .dataframe tbody tr th:only-of-type {\n",
       "        vertical-align: middle;\n",
       "    }\n",
       "\n",
       "    .dataframe tbody tr th {\n",
       "        vertical-align: top;\n",
       "    }\n",
       "\n",
       "    .dataframe thead th {\n",
       "        text-align: right;\n",
       "    }\n",
       "</style>\n",
       "<table border=\"1\" class=\"dataframe\">\n",
       "  <thead>\n",
       "    <tr style=\"text-align: right;\">\n",
       "      <th></th>\n",
       "      <th>A</th>\n",
       "      <th>B</th>\n",
       "    </tr>\n",
       "  </thead>\n",
       "  <tbody>\n",
       "    <tr>\n",
       "      <th>1</th>\n",
       "      <td>2.706850</td>\n",
       "      <td>0.628133</td>\n",
       "    </tr>\n",
       "    <tr>\n",
       "      <th>2</th>\n",
       "      <td>0.907969</td>\n",
       "      <td>0.503826</td>\n",
       "    </tr>\n",
       "    <tr>\n",
       "      <th>3</th>\n",
       "      <td>0.651118</td>\n",
       "      <td>-0.319318</td>\n",
       "    </tr>\n",
       "  </tbody>\n",
       "</table>\n",
       "</div>"
      ],
      "text/plain": [
       "          A         B\n",
       "1  2.706850  0.628133\n",
       "2  0.907969  0.503826\n",
       "3  0.651118 -0.319318"
      ]
     },
     "execution_count": 69,
     "metadata": {},
     "output_type": "execute_result"
    }
   ],
   "source": [
    "df.xs('G1',level = 0)"
   ]
  },
  {
   "cell_type": "code",
   "execution_count": 70,
   "id": "62240bab-a096-41f5-bf51-fddeafa0ff66",
   "metadata": {},
   "outputs": [
    {
     "data": {
      "text/html": [
       "<div>\n",
       "<style scoped>\n",
       "    .dataframe tbody tr th:only-of-type {\n",
       "        vertical-align: middle;\n",
       "    }\n",
       "\n",
       "    .dataframe tbody tr th {\n",
       "        vertical-align: top;\n",
       "    }\n",
       "\n",
       "    .dataframe thead th {\n",
       "        text-align: right;\n",
       "    }\n",
       "</style>\n",
       "<table border=\"1\" class=\"dataframe\">\n",
       "  <thead>\n",
       "    <tr style=\"text-align: right;\">\n",
       "      <th></th>\n",
       "      <th></th>\n",
       "      <th>A</th>\n",
       "      <th>B</th>\n",
       "    </tr>\n",
       "  </thead>\n",
       "  <tbody>\n",
       "    <tr>\n",
       "      <th rowspan=\"3\" valign=\"top\">G1</th>\n",
       "      <th>1</th>\n",
       "      <td>2.706850</td>\n",
       "      <td>0.628133</td>\n",
       "    </tr>\n",
       "    <tr>\n",
       "      <th>2</th>\n",
       "      <td>0.907969</td>\n",
       "      <td>0.503826</td>\n",
       "    </tr>\n",
       "    <tr>\n",
       "      <th>3</th>\n",
       "      <td>0.651118</td>\n",
       "      <td>-0.319318</td>\n",
       "    </tr>\n",
       "    <tr>\n",
       "      <th rowspan=\"3\" valign=\"top\">G2</th>\n",
       "      <th>1</th>\n",
       "      <td>-0.848077</td>\n",
       "      <td>0.605965</td>\n",
       "    </tr>\n",
       "    <tr>\n",
       "      <th>2</th>\n",
       "      <td>-2.018168</td>\n",
       "      <td>0.740122</td>\n",
       "    </tr>\n",
       "    <tr>\n",
       "      <th>3</th>\n",
       "      <td>0.528813</td>\n",
       "      <td>-0.589001</td>\n",
       "    </tr>\n",
       "  </tbody>\n",
       "</table>\n",
       "</div>"
      ],
      "text/plain": [
       "             A         B\n",
       "G1 1  2.706850  0.628133\n",
       "   2  0.907969  0.503826\n",
       "   3  0.651118 -0.319318\n",
       "G2 1 -0.848077  0.605965\n",
       "   2 -2.018168  0.740122\n",
       "   3  0.528813 -0.589001"
      ]
     },
     "execution_count": 70,
     "metadata": {},
     "output_type": "execute_result"
    }
   ],
   "source": [
    "df"
   ]
  },
  {
   "cell_type": "code",
   "execution_count": 71,
   "id": "723931e0-eba7-4a11-a3b1-457771507554",
   "metadata": {},
   "outputs": [],
   "source": [
    "df = pd.DataFrame({'A':[1,2,np.nan],\n",
    "                  'B':[5,np.nan,np.nan],\n",
    "                  'C':[1,2,3]})"
   ]
  },
  {
   "cell_type": "code",
   "execution_count": 72,
   "id": "80c4c204-6e64-4f94-befc-37d5414fde54",
   "metadata": {},
   "outputs": [
    {
     "data": {
      "text/html": [
       "<div>\n",
       "<style scoped>\n",
       "    .dataframe tbody tr th:only-of-type {\n",
       "        vertical-align: middle;\n",
       "    }\n",
       "\n",
       "    .dataframe tbody tr th {\n",
       "        vertical-align: top;\n",
       "    }\n",
       "\n",
       "    .dataframe thead th {\n",
       "        text-align: right;\n",
       "    }\n",
       "</style>\n",
       "<table border=\"1\" class=\"dataframe\">\n",
       "  <thead>\n",
       "    <tr style=\"text-align: right;\">\n",
       "      <th></th>\n",
       "      <th>A</th>\n",
       "      <th>B</th>\n",
       "      <th>C</th>\n",
       "    </tr>\n",
       "  </thead>\n",
       "  <tbody>\n",
       "    <tr>\n",
       "      <th>0</th>\n",
       "      <td>1.0</td>\n",
       "      <td>5.0</td>\n",
       "      <td>1</td>\n",
       "    </tr>\n",
       "    <tr>\n",
       "      <th>1</th>\n",
       "      <td>2.0</td>\n",
       "      <td>NaN</td>\n",
       "      <td>2</td>\n",
       "    </tr>\n",
       "    <tr>\n",
       "      <th>2</th>\n",
       "      <td>NaN</td>\n",
       "      <td>NaN</td>\n",
       "      <td>3</td>\n",
       "    </tr>\n",
       "  </tbody>\n",
       "</table>\n",
       "</div>"
      ],
      "text/plain": [
       "     A    B  C\n",
       "0  1.0  5.0  1\n",
       "1  2.0  NaN  2\n",
       "2  NaN  NaN  3"
      ]
     },
     "execution_count": 72,
     "metadata": {},
     "output_type": "execute_result"
    }
   ],
   "source": [
    "df"
   ]
  },
  {
   "cell_type": "code",
   "execution_count": 84,
   "id": "5ff06f33-306d-43b0-97d4-f35cbcb6e2a9",
   "metadata": {},
   "outputs": [],
   "source": [
    "numbers = [1, 2, 3]\n",
    "letters = ['a', 'a', 'c']\n",
    "\n",
    "aa = np.array(zip(letters,numbers))"
   ]
  },
  {
   "cell_type": "code",
   "execution_count": 85,
   "id": "f5229eed-ccb1-4cd2-8968-87513feed5a2",
   "metadata": {},
   "outputs": [
    {
     "data": {
      "text/plain": [
       "array(<zip object at 0x7fccac51cd40>, dtype=object)"
      ]
     },
     "execution_count": 85,
     "metadata": {},
     "output_type": "execute_result"
    }
   ],
   "source": [
    "aa"
   ]
  },
  {
   "cell_type": "code",
   "execution_count": 89,
   "id": "6f864a14-002a-43b3-b993-c86907aeae8b",
   "metadata": {},
   "outputs": [
    {
     "name": "stdout",
     "output_type": "stream",
     "text": [
      "{}\n"
     ]
    }
   ],
   "source": [
    "x =(({ }))\n",
    "print(x)"
   ]
  },
  {
   "cell_type": "code",
   "execution_count": 14,
   "id": "cc90863b-db4a-4f89-8e36-28ca4a636e7e",
   "metadata": {},
   "outputs": [],
   "source": [
    "import numpy as np\n",
    "import pylab as py\n",
    "import scipy.sparse as sp\n",
    "import scipy.linalg as la, scipy.sparse as sp\n",
    "import matplotlib.pyplot as plt\n",
    "from matplotlib.colors import ListedColormap\n",
    "import time\n",
    "from datetime import datetime"
   ]
  },
  {
   "cell_type": "code",
   "execution_count": 15,
   "id": "ccb9d0a6-794c-4fc8-82ba-7fb0b1467b59",
   "metadata": {},
   "outputs": [],
   "source": [
    "class run:\n",
    "    def __init__(self, state):\n",
    "        self.state = state\n",
    "    def evaluate(self, weight):\n",
    "        self.weight = weight\n",
    "        state = self.weight @ self.state\n",
    "        self.state = state\n",
    "        return state"
   ]
  },
  {
   "cell_type": "code",
   "execution_count": 17,
   "id": "d2a93840-194c-453f-af06-1ff3ae8514b1",
   "metadata": {},
   "outputs": [],
   "source": [
    "psi = run(np.array([1.,0.]))"
   ]
  },
  {
   "cell_type": "code",
   "execution_count": 18,
   "id": "804369b5-a3af-4f20-954f-c399154c95b3",
   "metadata": {},
   "outputs": [
    {
     "data": {
      "text/plain": [
       "array([1., 0.])"
      ]
     },
     "execution_count": 18,
     "metadata": {},
     "output_type": "execute_result"
    }
   ],
   "source": [
    "psi.state"
   ]
  },
  {
   "cell_type": "code",
   "execution_count": 19,
   "id": "4e94e7de-6002-48a8-861d-f4f80dadf8cc",
   "metadata": {},
   "outputs": [
    {
     "name": "stdout",
     "output_type": "stream",
     "text": [
      "[[0.32749969 0.70417451]\n",
      " [0.64532042 0.28723303]]\n"
     ]
    }
   ],
   "source": [
    "weight = np.random.rand(2,2)\n",
    "print(weight)"
   ]
  },
  {
   "cell_type": "code",
   "execution_count": 20,
   "id": "0d466d16-8f58-4200-8f54-5cf1c8946af0",
   "metadata": {},
   "outputs": [
    {
     "data": {
      "text/plain": [
       "array([0.32749969, 0.64532042])"
      ]
     },
     "execution_count": 20,
     "metadata": {},
     "output_type": "execute_result"
    }
   ],
   "source": [
    "psi.evaluate(weight)"
   ]
  },
  {
   "cell_type": "code",
   "execution_count": 21,
   "id": "2e0918ee-2b91-4109-b482-5e78a8fe6121",
   "metadata": {},
   "outputs": [
    {
     "data": {
      "text/plain": [
       "array([[0.8706537 , 0.94742951],\n",
       "       [0.48553183, 0.10695651]])"
      ]
     },
     "execution_count": 21,
     "metadata": {},
     "output_type": "execute_result"
    }
   ],
   "source": [
    "weight = np.random.rand(2,2)\n",
    "weight"
   ]
  },
  {
   "cell_type": "code",
   "execution_count": 22,
   "id": "720aa09e-0860-431d-97c8-9360846e7f1f",
   "metadata": {},
   "outputs": [
    {
     "data": {
      "text/plain": [
       "array([0.89653442, 0.22803274])"
      ]
     },
     "execution_count": 22,
     "metadata": {},
     "output_type": "execute_result"
    }
   ],
   "source": [
    "psi.evaluate(weight)"
   ]
  },
  {
   "cell_type": "code",
   "execution_count": 27,
   "id": "f65bbd8f-ba17-4021-ae64-b8af3a705299",
   "metadata": {},
   "outputs": [
    {
     "data": {
      "text/plain": [
       "array([[0.89653443, 0.88522519],\n",
       "       [0.22803274, 0.37262058]])"
      ]
     },
     "execution_count": 27,
     "metadata": {},
     "output_type": "execute_result"
    }
   ],
   "source": [
    "np.array([[0.8706537 , 0.94742951],[0.48553183, 0.10695651]]) @ np.array([[0.32749969, 0.70417451],[0.64532042, 0.28723303]])"
   ]
  },
  {
   "cell_type": "code",
   "execution_count": 28,
   "id": "75dbbbe2-dde0-4d01-b70e-8037a31daa84",
   "metadata": {},
   "outputs": [
    {
     "data": {
      "text/plain": [
       "array([0.89653442, 0.22803274])"
      ]
     },
     "execution_count": 28,
     "metadata": {},
     "output_type": "execute_result"
    }
   ],
   "source": [
    "psi.state"
   ]
  },
  {
   "cell_type": "code",
   "execution_count": 29,
   "id": "ea8f8699-6dac-40a8-9732-d2cfcb27ba7d",
   "metadata": {},
   "outputs": [
    {
     "data": {
      "text/plain": [
       "array([0.99661596, 0.45968558])"
      ]
     },
     "execution_count": 29,
     "metadata": {},
     "output_type": "execute_result"
    }
   ],
   "source": [
    "psi.evaluate(weight)"
   ]
  },
  {
   "cell_type": "code",
   "execution_count": 30,
   "id": "f7747c4d-ed37-44d6-b275-23ae0ad683e7",
   "metadata": {},
   "outputs": [
    {
     "data": {
      "text/plain": [
       "array([0.99661596, 0.45968558])"
      ]
     },
     "execution_count": 30,
     "metadata": {},
     "output_type": "execute_result"
    }
   ],
   "source": [
    "psi.state"
   ]
  },
  {
   "cell_type": "code",
   "execution_count": 38,
   "id": "739e87f5-2ee1-40f1-89ed-d6ab6ff882a9",
   "metadata": {},
   "outputs": [],
   "source": [
    "class run2:\n",
    "    def __init__(self, state):\n",
    "        self.state = state\n",
    "    def evaluate(self, weight):\n",
    "        self.state = weight @ self.state\n",
    "        return self.state"
   ]
  },
  {
   "cell_type": "code",
   "execution_count": 39,
   "id": "d2a57040-228c-4031-8407-3e245b87dd5f",
   "metadata": {},
   "outputs": [],
   "source": [
    "psi = run2(np.array([1.,0.]))"
   ]
  },
  {
   "cell_type": "code",
   "execution_count": 40,
   "id": "0a98fa81-a8aa-4463-adb8-60ff92edc45d",
   "metadata": {},
   "outputs": [
    {
     "data": {
      "text/plain": [
       "array([0.52006551, 0.52011183])"
      ]
     },
     "execution_count": 40,
     "metadata": {},
     "output_type": "execute_result"
    }
   ],
   "source": [
    "weight = np.random.rand(2,2)\n",
    "psi.evaluate(weight)"
   ]
  },
  {
   "cell_type": "code",
   "execution_count": 41,
   "id": "8d69afa3-426f-478b-85f7-2341a50a9099",
   "metadata": {},
   "outputs": [
    {
     "name": "stdout",
     "output_type": "stream",
     "text": [
      "[[0.52006551 0.53914835]\n",
      " [0.52011183 0.9103482 ]]\n"
     ]
    }
   ],
   "source": [
    "print(weight)"
   ]
  },
  {
   "cell_type": "code",
   "execution_count": 36,
   "id": "64c77f65-50f8-4197-8144-1daca50fb97a",
   "metadata": {},
   "outputs": [
    {
     "name": "stdout",
     "output_type": "stream",
     "text": [
      "[[0.8173283  0.67804503]\n",
      " [0.94386803 0.46832349]]\n"
     ]
    }
   ],
   "source": [
    "print(weight)"
   ]
  },
  {
   "cell_type": "code",
   "execution_count": 37,
   "id": "458ec98d-8fba-4e9f-b1ac-d1c89073fa47",
   "metadata": {},
   "outputs": [
    {
     "data": {
      "text/plain": [
       "array([[0.68146353, 1.18384011],\n",
       "       [0.48831091, 1.18982031]])"
      ]
     },
     "execution_count": 37,
     "metadata": {},
     "output_type": "execute_result"
    }
   ],
   "source": [
    "np.array([[0.8173283,0.67804503], [0.94386803,0.46832349]]) @ np.array([[0.04646538,0.98102971],[0.94903145,0.56340914]])"
   ]
  },
  {
   "cell_type": "code",
   "execution_count": 42,
   "id": "3317ab43-33ea-440b-b1b4-dd62687acd8a",
   "metadata": {},
   "outputs": [
    {
     "data": {
      "text/plain": [
       "array([0.76936746, 0.30639774])"
      ]
     },
     "execution_count": 42,
     "metadata": {},
     "output_type": "execute_result"
    }
   ],
   "source": [
    "weight2 = np.random.rand(2,2)\n",
    "psi.evaluate(weight2)"
   ]
  },
  {
   "cell_type": "code",
   "execution_count": 43,
   "id": "feba397b-80ee-4769-be45-d9a92203574b",
   "metadata": {},
   "outputs": [
    {
     "data": {
      "text/plain": [
       "array([[0.76936746, 1.04739366],\n",
       "       [0.30639774, 0.32136845]])"
      ]
     },
     "execution_count": 43,
     "metadata": {},
     "output_type": "execute_result"
    }
   ],
   "source": [
    "weight2 @ weight"
   ]
  },
  {
   "cell_type": "code",
   "execution_count": 47,
   "id": "3a8f9d69-7c56-4ee3-975e-29a1c2899f49",
   "metadata": {},
   "outputs": [
    {
     "data": {
      "text/plain": [
       "array([[0.8162976 , 0.22163374, 0.76417258, 0.25921365, 0.6014703 ,\n",
       "        0.42956316, 0.94232338],\n",
       "       [0.12352997, 0.41213118, 0.42190519, 0.4524436 , 0.1490695 ,\n",
       "        0.97651403, 0.14173063],\n",
       "       [0.67521249, 0.10294547, 0.61342592, 0.63086828, 0.99366451,\n",
       "        0.6715702 , 0.27253489]])"
      ]
     },
     "execution_count": 47,
     "metadata": {},
     "output_type": "execute_result"
    }
   ],
   "source": [
    "np.random.rand(3,7)"
   ]
  },
  {
   "cell_type": "code",
   "execution_count": 48,
   "id": "5e9115c8-8a4a-4d45-af41-a3a2a28c3bab",
   "metadata": {},
   "outputs": [
    {
     "data": {
      "text/plain": [
       "array([0.03627692, 0.70011905, 0.40850529, 0.94453591, 0.98440885,\n",
       "       0.17550676, 0.98104625, 0.9431712 , 0.3603846 , 0.23557149,\n",
       "       0.29536632, 0.84393073, 0.80180167, 0.58156065, 0.30968208,\n",
       "       0.17684066, 0.07539126, 0.94802392, 0.0731059 , 0.04857253,\n",
       "       0.98699747, 0.56968116, 0.67596878, 0.68771122, 0.87615724,\n",
       "       0.50349743, 0.35875651, 0.20008706, 0.8919402 , 0.81028799,\n",
       "       0.79833896, 0.90604737, 0.35550343, 0.40830366, 0.44142152,\n",
       "       0.46072845, 0.10627919, 0.04290529, 0.05031278, 0.66481527,\n",
       "       0.56544438, 0.1308498 , 0.88299713, 0.80064834, 0.26906297,\n",
       "       0.89066178, 0.14604571, 0.62177172, 0.21315944, 0.98444533])"
      ]
     },
     "execution_count": 48,
     "metadata": {},
     "output_type": "execute_result"
    }
   ],
   "source": [
    "np.random.random(50)"
   ]
  },
  {
   "cell_type": "code",
   "execution_count": 121,
   "id": "d5a27cb2-010f-4238-80d8-d544d9538c82",
   "metadata": {},
   "outputs": [],
   "source": [
    "#!/usr/bin/env python3\n",
    "# -*- coding: utf-8 -*-\n",
    "\"\"\"\n",
    "Created on Thu Apr 13 11:51:39 2023\n",
    "\n",
    "@author: Ali Moghaddam\n",
    "\"\"\"\n",
    "\n",
    "\n",
    "import numpy as np\n",
    "import pylab as py\n",
    "import scipy.sparse as sp\n",
    "import scipy.linalg as la, scipy.sparse as sp\n",
    "import matplotlib.pyplot as plt\n",
    "from matplotlib.colors import ListedColormap\n",
    "import time\n",
    "from datetime import datetime\n",
    "from util_func import U1_Two_Qubit_Unitary as TwoQubitUni\n",
    "\n",
    "\n",
    "class QuantumTrajectoryDynamics:\n",
    "    \n",
    "    \"\"\" Create and evolves a new manybody state of N qubits.  N := \"num_qubits\" or \"circuit length\"\n",
    "        Evolution consits of (a) two-qubit unitary gates which are successively applied to neighboring qubits.\n",
    "                         and (b) projective measurements of single qubits\n",
    "\n",
    "    Args:\n",
    "        num_qubits: An integer indicating the number of qubits or in other words the length of quantum circuit\n",
    "        \n",
    "        psi : manybody state of N qubits. A 2^N-dimensional numpy array\n",
    "\n",
    "    \"\"\"\n",
    "\n",
    "    def __init__(self, num_qubits: int, psi: np.ndarray):\n",
    "        self.num_qubits = num_qubits\n",
    "        self.psi = psi\n",
    "\n",
    "    def even_time_unitary(self, phi_cte: np.ndarray = np.zeros((6,1)), randomness: float = 1) -> np.ndarray:\n",
    "        \"\"\" Applies two-qubit unitary gates successively to neighboring qubits in even time steps.\n",
    "\n",
    "        Args:\n",
    "            phi_cte: A constant (6-component) set of unitary phases. Default all 0.\n",
    "            randomness: A float indicating the amount of randomness in unitary phases. Default is 1.\n",
    "\n",
    "        Returns:\n",
    "            psi: The updated manybody state of N qubits. A 2^N-dimensional numpy array.\n",
    "\n",
    "        \"\"\"\n",
    "        num_TwoQubitGate = self.num_qubits//2\n",
    "        phi = phi_cte + randomness * np.pi * np.random.rand(6, num_TwoQubitGate)\n",
    "        \n",
    "        for m in range(num_TwoQubitGate):\n",
    "            L_dim = 2 ** (2 * m)\n",
    "            R_dim = 2 ** (self.num_qubits - 2 * m - 2)\n",
    "            rest_dim = 2 ** (self.num_qubits - 2)\n",
    "            \n",
    "            psi = self.psi.reshape(L_dim, 4, R_dim).transpose(1, 0, 2).reshape(4, rest_dim)\n",
    "            psi = np.matmul(TwoQubitUni(phi[:, m]), psi).reshape(4, L_dim, R_dim).transpose(1, 0, 2)\n",
    "            \n",
    "            self.psi = psi\n",
    "        \n",
    "        return self.psi\n"
   ]
  },
  {
   "cell_type": "code",
   "execution_count": 89,
   "id": "c2e150dd-ab5a-450d-bf5c-ab3e7c53fa60",
   "metadata": {},
   "outputs": [],
   "source": [
    "psi0 = QuantumTrajectoryDynamics(4,np.random.rand(2,2,2,2))"
   ]
  },
  {
   "cell_type": "code",
   "execution_count": 90,
   "id": "eb495d32-c871-434c-a501-17825e6166c9",
   "metadata": {},
   "outputs": [
    {
     "name": "stdout",
     "output_type": "stream",
     "text": [
      "[[[[0.17419575 0.95191461]\n",
      "   [0.62706045 0.08237131]]\n",
      "\n",
      "  [[0.03507395 0.95495814]\n",
      "   [0.35887097 0.71856854]]]\n",
      "\n",
      "\n",
      " [[[0.5349099  0.2734681 ]\n",
      "   [0.34289344 0.99088605]]\n",
      "\n",
      "  [[0.59766716 0.46490126]\n",
      "   [0.72849515 0.47603181]]]]\n",
      "5.685774943337912\n"
     ]
    }
   ],
   "source": [
    "print(psi0.psi)\n",
    "print(np.sum(abs(psi0.psi)**2.))"
   ]
  },
  {
   "cell_type": "code",
   "execution_count": 93,
   "id": "835b1352-c10e-45ed-98db-47d8a8e99491",
   "metadata": {},
   "outputs": [
    {
     "data": {
      "text/plain": [
       "array([[[ 0.15107111-8.67276268e-02j],\n",
       "        [ 0.52827568+7.43468083e-01j],\n",
       "        [-0.61044006+3.08040864e-01j],\n",
       "        [-0.08236431-1.07447969e-03j]],\n",
       "\n",
       "       [[-0.12233442-4.67484172e-01j],\n",
       "        [ 0.67442042-7.40259856e-02j],\n",
       "        [-0.07181572+4.52946185e-01j],\n",
       "        [-0.46927801+1.08330899e+00j]],\n",
       "\n",
       "       [[ 0.22961579-3.35888584e-02j],\n",
       "        [ 0.1533185 -3.93600159e-01j],\n",
       "        [ 0.44991971+4.26143463e-01j],\n",
       "        [-0.0798937 +3.13101730e-01j]],\n",
       "\n",
       "       [[ 0.52302012+2.89233438e-01j],\n",
       "        [-0.43182751+6.88691597e-01j],\n",
       "        [-0.29321327+9.65516388e-03j],\n",
       "        [-0.24124812-4.10372553e-01j]]])"
      ]
     },
     "execution_count": 93,
     "metadata": {},
     "output_type": "execute_result"
    }
   ],
   "source": [
    "psi0.even_time_unitary(phi_cte = 0.)"
   ]
  },
  {
   "cell_type": "code",
   "execution_count": 103,
   "id": "7fa492ba-f555-46c1-aa3d-bf8e28aa06c5",
   "metadata": {},
   "outputs": [
    {
     "data": {
      "text/plain": [
       "(8, 1, 2)"
      ]
     },
     "execution_count": 103,
     "metadata": {},
     "output_type": "execute_result"
    }
   ],
   "source": [
    "psi0.psi.reshape(8,1,-1).shape"
   ]
  },
  {
   "cell_type": "code",
   "execution_count": 105,
   "id": "e86b6e37-ee43-4e9c-bd9d-7495c824392f",
   "metadata": {},
   "outputs": [],
   "source": [
    "trial_psi = np.random.rand(2,2,2,2)\n",
    "trial_U  = np.random.rand(4,4)"
   ]
  },
  {
   "cell_type": "code",
   "execution_count": 107,
   "id": "81e0289a-f649-4982-87cd-36a27101afbc",
   "metadata": {},
   "outputs": [
    {
     "data": {
      "text/plain": [
       "array([[[[0.73837507, 0.58717348],\n",
       "         [0.77611467, 0.07394792]],\n",
       "\n",
       "        [[0.15605995, 0.51105458],\n",
       "         [0.17456905, 0.51406785]]],\n",
       "\n",
       "\n",
       "       [[[0.84027596, 0.7554263 ],\n",
       "         [0.33465098, 0.58836392]],\n",
       "\n",
       "        [[0.07257859, 0.80863585],\n",
       "         [0.93525327, 0.10799798]]]])"
      ]
     },
     "execution_count": 107,
     "metadata": {},
     "output_type": "execute_result"
    }
   ],
   "source": [
    "trial_psi"
   ]
  },
  {
   "cell_type": "code",
   "execution_count": 108,
   "id": "b1579009-35bc-4939-b5ea-cd5140ff25b2",
   "metadata": {},
   "outputs": [
    {
     "data": {
      "text/plain": [
       "array([[0.22653851, 0.82430954, 0.5072478 , 0.21963611],\n",
       "       [0.96747847, 0.97965668, 0.36266093, 0.80550187],\n",
       "       [0.76478763, 0.3543978 , 0.14090471, 0.75798905],\n",
       "       [0.29253719, 0.58969525, 0.93482078, 0.94446656]])"
      ]
     },
     "execution_count": 108,
     "metadata": {},
     "output_type": "execute_result"
    }
   ],
   "source": [
    "trial_U"
   ]
  },
  {
   "cell_type": "code",
   "execution_count": null,
   "id": "1c158a18-90a8-4ab0-9cc6-05401d1a510a",
   "metadata": {},
   "outputs": [],
   "source": []
  },
  {
   "cell_type": "code",
   "execution_count": 110,
   "id": "e03aa148-0c26-4861-b9ca-5a3eb44322e0",
   "metadata": {},
   "outputs": [
    {
     "data": {
      "text/plain": [
       "array([[[0.92453184, 0.56611256],\n",
       "        [1.67190044, 1.23994341],\n",
       "        [0.99406446, 0.93693779],\n",
       "        [0.98443602, 1.17864115]],\n",
       "\n",
       "       [[0.70844159, 1.09002615],\n",
       "        [1.92046165, 1.68750652],\n",
       "        [1.48037064, 0.98205745],\n",
       "        [1.39431748, 1.42587577]]])"
      ]
     },
     "execution_count": 110,
     "metadata": {},
     "output_type": "execute_result"
    }
   ],
   "source": [
    "psi = trial_psi.reshape(2, 4, -1).transpose(1, 0, 2).reshape(4, -1)\n",
    "np.matmul(trial_U, psi).reshape(4, 2, -1).transpose(1, 0, 2)"
   ]
  },
  {
   "cell_type": "code",
   "execution_count": 112,
   "id": "894ece75-dd1d-42b9-93cc-68091b61ea8f",
   "metadata": {},
   "outputs": [
    {
     "ename": "ValueError",
     "evalue": "matmul: Input operand 1 has a mismatch in its core dimension 0, with gufunc signature (n?,k),(k,m?)->(n?,m?) (size 2 is different from 4)",
     "output_type": "error",
     "traceback": [
      "\u001b[0;31m---------------------------------------------------------------------------\u001b[0m",
      "\u001b[0;31mValueError\u001b[0m                                Traceback (most recent call last)",
      "\u001b[0;32m/var/folders/4l/zqtr_ty11ldfzg4022_jqk_4kgyzb1/T/ipykernel_1282/4259206676.py\u001b[0m in \u001b[0;36m<module>\u001b[0;34m\u001b[0m\n\u001b[1;32m      1\u001b[0m \u001b[0mpsi\u001b[0m \u001b[0;34m=\u001b[0m \u001b[0mtrial_psi\u001b[0m\u001b[0;34m.\u001b[0m\u001b[0mreshape\u001b[0m\u001b[0;34m(\u001b[0m\u001b[0;36m2\u001b[0m\u001b[0;34m,\u001b[0m \u001b[0;36m4\u001b[0m\u001b[0;34m,\u001b[0m \u001b[0;34m-\u001b[0m\u001b[0;36m1\u001b[0m\u001b[0;34m)\u001b[0m\u001b[0;34m.\u001b[0m\u001b[0mtranspose\u001b[0m\u001b[0;34m(\u001b[0m\u001b[0;36m1\u001b[0m\u001b[0;34m,\u001b[0m \u001b[0;36m0\u001b[0m\u001b[0;34m,\u001b[0m \u001b[0;36m2\u001b[0m\u001b[0;34m)\u001b[0m\u001b[0;34m\u001b[0m\u001b[0;34m\u001b[0m\u001b[0m\n\u001b[0;32m----> 2\u001b[0;31m \u001b[0;34m(\u001b[0m\u001b[0mtrial_U\u001b[0m \u001b[0;34m@\u001b[0m \u001b[0mpsi\u001b[0m\u001b[0;34m)\u001b[0m\u001b[0;34m.\u001b[0m\u001b[0mtranspose\u001b[0m\u001b[0;34m(\u001b[0m\u001b[0;36m1\u001b[0m\u001b[0;34m,\u001b[0m \u001b[0;36m0\u001b[0m\u001b[0;34m,\u001b[0m \u001b[0;36m2\u001b[0m\u001b[0;34m)\u001b[0m\u001b[0;34m\u001b[0m\u001b[0;34m\u001b[0m\u001b[0m\n\u001b[0m",
      "\u001b[0;31mValueError\u001b[0m: matmul: Input operand 1 has a mismatch in its core dimension 0, with gufunc signature (n?,k),(k,m?)->(n?,m?) (size 2 is different from 4)"
     ]
    }
   ],
   "source": [
    "psi = trial_psi.reshape(2, 4, -1).transpose(1, 0, 2)\n",
    "(trial_U @ psi).transpose(1, 0, 2)"
   ]
  },
  {
   "cell_type": "code",
   "execution_count": 113,
   "id": "929698da-2aa1-412e-ab19-473e795bc072",
   "metadata": {},
   "outputs": [
    {
     "data": {
      "text/plain": [
       "array([[1.73045999, 1.41619827],\n",
       "       [1.48785009, 0.8880099 ],\n",
       "       [1.43827296, 1.33769971],\n",
       "       [1.06859093, 0.9357886 ]])"
      ]
     },
     "execution_count": 113,
     "metadata": {},
     "output_type": "execute_result"
    }
   ],
   "source": [
    "np.random.rand(4,4) @ np.random.rand(4,2)"
   ]
  },
  {
   "cell_type": "code",
   "execution_count": 116,
   "id": "a7a68b68-3bd8-4333-aa1c-b08e22d8a4af",
   "metadata": {},
   "outputs": [
    {
     "data": {
      "text/plain": [
       "array([[[5.06093144e-01, 5.03032863e-01],\n",
       "        [5.77135540e-01, 3.09273617e-01]],\n",
       "\n",
       "       [[9.39467871e-01, 7.08481715e-01],\n",
       "        [1.98931899e-01, 4.57141130e-01]],\n",
       "\n",
       "       [[2.65387393e-01, 2.66085277e-01],\n",
       "        [1.80554961e-01, 2.33452577e-01]],\n",
       "\n",
       "       [[1.85052230e-04, 2.03770644e-01],\n",
       "        [9.64164866e-01, 6.47003905e-02]]])"
      ]
     },
     "execution_count": 116,
     "metadata": {},
     "output_type": "execute_result"
    }
   ],
   "source": [
    "np.random.rand(4,2,2)"
   ]
  },
  {
   "cell_type": "code",
   "execution_count": 1,
   "id": "829eae3c-e268-4425-8943-5f766c4ed985",
   "metadata": {},
   "outputs": [],
   "source": [
    "#!/usr/bin/env python3\n",
    "# -*- coding: utf-8 -*-\n",
    "\"\"\"\n",
    "Created on Thu Apr 13 11:51:39 2023\n",
    "\n",
    "@author: Ali Moghaddam\n",
    "\"\"\"\n",
    "\n",
    "\n",
    "import numpy as np\n",
    "import pylab as py\n",
    "import scipy.sparse as sp\n",
    "import scipy.linalg as la, scipy.sparse as sp\n",
    "import matplotlib.pyplot as plt\n",
    "from matplotlib.colors import ListedColormap\n",
    "import time\n",
    "from datetime import datetime\n",
    "from util_func import TwoQubitUniU1 , Two_Qubit_Gate_on_Circuit\n",
    "\n",
    "TwoQubitUni = TwoQubitUniU1\n",
    "\n",
    "class QuantumTrajectoryDynamics:\n",
    "    \n",
    "    \"\"\" \n",
    "        Create and evolves a new manybody state of N qubits.  N := \"num_qubits\" or \"circuit length\"\n",
    "        Evolution consits of (a) two-qubit unitary gates which are successively applied to neighboring qubits.\n",
    "                         and (b) projective measurements of single qubits\n",
    "\n",
    "    Args:\n",
    "\n",
    "        num_qubits: An integer indicating the number of qubits or in other words the length of quantum circuit\n",
    "        \n",
    "        psi : manybody state of N qubits. A 2^N-dimensional numpy array\n",
    "\n",
    "    \"\"\"\n",
    "\n",
    "    def __init__(self, num_qubits: int, psi: np.ndarray):\n",
    "        self.num_qubits = num_qubits\n",
    "        self.psi = psi\n",
    "\n",
    "    def even_time_unitary(self, phi_cte = np.zeros((6,1)), randomness = 1) -> np.ndarray:\n",
    "        \"\"\" Applies two-qubit unitary gates successively to neighboring qubits in even time steps.\n",
    "\n",
    "        Args:\n",
    "            phi_cte: A constant (6-component) set of unitary phases. Default all 0.\n",
    "            randomness: A float indicating the amount of randomness in unitary phases. Default is 1.\n",
    "\n",
    "        Returns:\n",
    "            psi: The updated manybody state of N qubits. A 2^N-dimensional numpy array.\n",
    "\n",
    "        \"\"\"\n",
    "        num_TwoQubitGate = self.num_qubits//2\n",
    "        phi = phi_cte + randomness * np.pi * np.random.rand(6, num_TwoQubitGate)\n",
    "        \n",
    "        for m in range(num_TwoQubitGate):\n",
    "            self.psi = Two_Qubit_Gate_on_Circuit(self.psi, TwoQubitUni(phi[:, m]), 2*m)       # This function applies two-qubit gate on circuit\n",
    "        \n",
    "\n",
    "\n",
    "    def odd_time_unitary(self, phi_cte = np.zeros((6,1)), randomness = 1., PBC = True) -> np.ndarray:\n",
    "        \"\"\" Applies two-qubit unitary gates successively to neighboring qubits in odd time steps.\n",
    "\n",
    "        Args:\n",
    "            phi_cte: A constant (6-component) set of unitary phases. Default all 0.\n",
    "            randomness: A float indicating the amount of randomness in unitary phases. Default is 1.\n",
    "            PBC: A boolean indicating if we have periodic boundary condiction (PBC) or not.\n",
    "\n",
    "        Returns:\n",
    "            psi: The updated manybody state of N qubits. A 2^N-dimensional numpy array.\n",
    "\n",
    "        \"\"\"\n",
    "        \n",
    "        if PBC:        \n",
    "            self.psi = self.psi.reshape(2 , 2**(self.num_qubits-1)).transpose(1, 0)\n",
    "            self.even_time_unitary(phi_cte, randomness)\n",
    "            self.psi = self.psi.reshape(2**(self.num_qubits-1), 2).transpose(1, 0)\n",
    "        \n",
    "        else:\n",
    "            num_TwoQubitGate = self.num_qubits//2 - 1    # The number of gates for OBC case.\n",
    "            phi = phi_cte + randomness * np.pi * np.random.rand(6, num_TwoQubitGate)\n",
    "\n",
    "            for m in range(num_TwoQubitGate):\n",
    "                self.psi = Two_Qubit_Gate_on_Circuit(self.psi, TwoQubitUni(phi[:, m]), 2*m + 1)\n",
    "\n",
    "\n"
   ]
  },
  {
   "cell_type": "code",
   "execution_count": 2,
   "id": "8eba6515-8e1f-4ed4-8b6a-ba6f8474bfb3",
   "metadata": {},
   "outputs": [],
   "source": [
    "state = QuantumTrajectoryDynamics(4,np.random.rand(2,2,2,2))"
   ]
  },
  {
   "cell_type": "code",
   "execution_count": 3,
   "id": "195569da-003d-421a-9c54-c8aef5c041d3",
   "metadata": {},
   "outputs": [
    {
     "data": {
      "text/plain": [
       "array([[[[0.85021168, 0.03483131],\n",
       "         [0.41249009, 0.06315181]],\n",
       "\n",
       "        [[0.44686718, 0.74043569],\n",
       "         [0.25910352, 0.59468511]]],\n",
       "\n",
       "\n",
       "       [[[0.20893459, 0.30097357],\n",
       "         [0.06528723, 0.46769867]],\n",
       "\n",
       "        [[0.6984843 , 0.04936331],\n",
       "         [0.19501698, 0.06766489]]]])"
      ]
     },
     "execution_count": 3,
     "metadata": {},
     "output_type": "execute_result"
    }
   ],
   "source": [
    "state.psi"
   ]
  },
  {
   "cell_type": "code",
   "execution_count": 10,
   "id": "e042fae0-8433-4853-9667-9395ebca7a2c",
   "metadata": {},
   "outputs": [],
   "source": [
    "state.odd_time_unitary(phi_cte = np.zeros((6,1)),randomness = 0.05, PBC = False)"
   ]
  },
  {
   "cell_type": "code",
   "execution_count": 11,
   "id": "628bbf2d-c7e8-4a76-9301-5aca0e9df69b",
   "metadata": {},
   "outputs": [
    {
     "data": {
      "text/plain": [
       "array([[[ 0.80598548+0.27064238j,  0.03301946+0.01108762j],\n",
       "        [ 0.47007462+0.27794163j,  0.29436419+0.14634815j],\n",
       "        [ 0.26084935+0.05978517j,  0.63700944+0.19591854j],\n",
       "        [ 0.24873555+0.0725621j ,  0.57088892+0.16654194j]],\n",
       "\n",
       "       [[ 0.19806626+0.0665088j ,  0.28531757+0.09580697j],\n",
       "        [ 0.28214889+0.1409502j ,  0.38164867+0.24450853j],\n",
       "        [ 0.59903169+0.18392615j, -0.11054966-0.05930792j],\n",
       "        [ 0.18721342+0.05461463j,  0.06495729+0.01894959j]]])"
      ]
     },
     "execution_count": 11,
     "metadata": {},
     "output_type": "execute_result"
    }
   ],
   "source": [
    "state.psi"
   ]
  },
  {
   "cell_type": "code",
   "execution_count": 8,
   "id": "31b98d28-3eab-408d-8b4c-22a711c9a3f8",
   "metadata": {},
   "outputs": [],
   "source": [
    "def psi_Neel2(N: int) -> np.ndarray:\n",
    "    \"\"\"\n",
    "    Generates the Neel state of N qubits, a state where the spins are alternating up and down. \n",
    "    The state is represented as a 2^N-dimensional vector (a numpy array).\n",
    "    \n",
    "    Args:\n",
    "    N: An integer indicating the number of qubits.\n",
    "\n",
    "    Returns:\n",
    "    A numpy array representing the Neel state of N qubits.\n",
    "    \"\"\"\n",
    "    \n",
    "    count = np.sum([2 ** (2 * m + 1) for m in range(N//2)])\n",
    "    psi = np.zeros(2 ** N, dtype=np.complex128)\n",
    "    psi[count] = 1.\n",
    "    return psi\n",
    "\n"
   ]
  },
  {
   "cell_type": "code",
   "execution_count": 10,
   "id": "f4c2ff72-070c-4f3c-82f3-9fe2e65ba576",
   "metadata": {},
   "outputs": [
    {
     "name": "stdin",
     "output_type": "stream",
     "text": [
      " 4\n"
     ]
    },
    {
     "name": "stdout",
     "output_type": "stream",
     "text": [
      "10\n"
     ]
    },
    {
     "data": {
      "text/plain": [
       "10"
      ]
     },
     "execution_count": 10,
     "metadata": {},
     "output_type": "execute_result"
    }
   ],
   "source": [
    "def psi_Neel(N):\n",
    "    count = 0\n",
    "    for m in range(N//2):\n",
    "        count = count + 2**(2*m+1)\n",
    "    psi = np.zeros(2**N,dtype=np.complex128)\n",
    "    psi[count]=1.\n",
    "    #psi[0]=1.\n",
    "    return psi\n",
    "\n",
    "N = input()\n",
    "N = int(N)\n",
    "print (psi_Neel2(N).argmax())\n",
    "psi_Neel(N).argmax()"
   ]
  },
  {
   "cell_type": "code",
   "execution_count": null,
   "id": "44756fe1-30e4-4221-a173-049a9dbb86ff",
   "metadata": {},
   "outputs": [],
   "source": []
  }
 ],
 "metadata": {
  "kernelspec": {
   "display_name": "Python 3 (ipykernel)",
   "language": "python",
   "name": "python3"
  },
  "language_info": {
   "codemirror_mode": {
    "name": "ipython",
    "version": 3
   },
   "file_extension": ".py",
   "mimetype": "text/x-python",
   "name": "python",
   "nbconvert_exporter": "python",
   "pygments_lexer": "ipython3",
   "version": "3.7.11"
  }
 },
 "nbformat": 4,
 "nbformat_minor": 5
}
